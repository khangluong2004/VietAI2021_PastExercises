{
  "nbformat": 4,
  "nbformat_minor": 0,
  "metadata": {
    "colab": {
      "name": "2_DeepNeuralNetwork.ipynb",
      "provenance": [],
      "collapsed_sections": [],
      "toc_visible": true
    },
    "kernelspec": {
      "display_name": "Python 3",
      "name": "python3"
    },
    "language_info": {
      "codemirror_mode": {
        "name": "ipython",
        "version": 3
      },
      "file_extension": ".py",
      "mimetype": "text/x-python",
      "name": "python",
      "nbconvert_exporter": "python",
      "pygments_lexer": "ipython3",
      "version": "3.7.3"
    }
  },
  "cells": [
    {
      "cell_type": "markdown",
      "metadata": {
        "id": "jAY-HQLVVK05"
      },
      "source": [
        "## Assignment 2: Deep Neural Network \n"
      ]
    },
    {
      "cell_type": "markdown",
      "metadata": {
        "id": "fciXmk4mVK06"
      },
      "source": [
        "### Giới thiệu\n",
        "\n",
        "Để có thể hoàn tất bài tập này, các bạn cần nắm rõ những kiến thức sau:\n",
        "\n",
        "    - Neural Networks - Fully connected networks là gì, nguyên tắc hoạt động ra sao.\n",
        "\t- Giải thuật Feedforward và BackPropagation trong bài toán NN.\n",
        "\t- Giải thuật gradient descent - Batch and Mini-batch.\n",
        "\t- Regularization để tránh overfitting trong NN.\n",
        "\n",
        "Các bạn có thể tham khảo lại bài giảng của lớp để nắm vững các nội dung này. Ngoài ra, các bạn có thể đặt câu hỏi cho đội ngũ giảng dạy nếu có thắc mắc. \n",
        "\n",
        "Trong bài tập này các bạn sẽ sử dụng Neural Networks để giải quyết 2 bài toán:\n",
        "\n",
        "\t- Bài 1: phân loại dữ liệu BAT, gồm 3 lớp.\n",
        "![Dữ liệu 3 class BAT](https://i.imgur.com/d1Pd1XT.png)\n",
        "\t- Bài 2: phân loại tập fashion MNIST, gồm 10 lớp.\n",
        "![Dữ liệu Fashion MNIST](https://i.imgur.com/O9dqdId.png)\n",
        "Yêu cầu dành cho các bạn trong là giải quyết hai bài trên bằng Numpy và TensorFlow.\n",
        "\n",
        "Mục tiêu của bài tập lần này là hiện thực Neural Networks mạng Fully Connected một cách cơ bản trên Numpy và Tensorflow. Một mạng cơ bản sẽ gồm nhiều hidden layers và một lớp softmax tại layer cuối cùng phù hợp cho việc phân loại dữ liệu. \n",
        "\n",
        "![Mạng neural network. Nguồn: graphicsminer.com/neuralnetwork](https://i.imgur.com/K3Yvt20.png)\n",
        "\n",
        "Khi thiết kế một mạng cơ bản thì người dùng có thể quyết định số input feature cho tầng input. Số output sẽ là số lớp mà người đó muốn phân loại. Ví dụ như bài toán fashion MNIST thì số feature đầu vào chính bằng số pixel của mỗi ảnh, số nút đầu ra sẽ bằng số lớp cần phân loại (10). Đối với số lượng hidden layer và số lượng nodes tương ứng, ta có thể tùy chọn.\n",
        "\n",
        "Một chú ý rất quan trọng là số nodes đầu ra của layer trước sẽ là số inputs đầu vào của layers sau đó.\n"
      ]
    },
    {
      "cell_type": "markdown",
      "metadata": {
        "id": "rPH8uEJCVK07"
      },
      "source": [
        "## I. Thực hiện Deep Neural Network với Numpy\n",
        "### Những công việc bạn phải thực hiện \n",
        "\n",
        "1. Các hàm activation `sigmoid`, `tanh`, `relu`, `softmax` và đạo hàm của nó `sigmoid_grad`, `tanh_grad`, `relu_grad`.\n",
        "2. Hàm `forward` và `backward` ở class `HiddenLayer`\n",
        "```python\n",
        "    class HiddenLayer:\n",
        "    \n",
        "        def forward(self, X):\n",
        "            ...\n",
        "    \n",
        "        def backward(self, X, delta_prev):\n",
        "            ...\n",
        "```\n",
        "3. Hàm `forward`, `backward`, `compute_loss` ở class `NeuralNetwork`\n",
        "```python\n",
        "    class NeuralNetwork:\n",
        "        \n",
        "        def forward(self, X):\n",
        "            ...\n",
        "            \n",
        "        def backward(self, X, Y, layers):\n",
        "            ...\n",
        "            \n",
        "        def compute_loss(self, Y, Y_hat):\n",
        "            ...\n",
        "```"
      ]
    },
    {
      "cell_type": "markdown",
      "metadata": {
        "id": "TohoN6f1VK07"
      },
      "source": [
        "### Ký hiệu\n",
        "\n",
        "- $L$: số layers trong mạng neural network. \n",
        "- $l = 0,1,..,L$ với $0$ là layer input và $L$ layer output.\n",
        "- $n^{[l]}$ là số neurons tại layer $l$\n",
        "- $l-1$: layer trước theo chiều forward của $l$.\n",
        "- $l+1$: layer trước theo chiều backward của $l$.\n",
        "- $\\sigma'(x)$: đạo hàm hàm activation theo x (general case cho cả đạo hàm sigmoid, tanh, relu).\n",
        "- $Z^{[l]}$: linear function values tại layer $l$.\n",
        "- $A^{[l]}$: activation function values tại layer $l$."
      ]
    },
    {
      "cell_type": "markdown",
      "metadata": {
        "id": "dneL9wNuVK08"
      },
      "source": [
        "### Import các thư viện cần thiết"
      ]
    },
    {
      "cell_type": "markdown",
      "metadata": {
        "id": "He9JhemNND3D"
      },
      "source": [
        "**Chú ý:** Nếu bạn chạy trên Google Colab thì các thư viện này đã được tích hợp sẵn. Nếu bạn chạy trên máy cá nhân, bạn cần install các thư viện *numpy*, *matplotlib*, *googledrivedownloader*, *sklearn*."
      ]
    },
    {
      "cell_type": "code",
      "metadata": {
        "id": "z5pqVHsNVK08"
      },
      "source": [
        "%matplotlib inline\n",
        "import numpy as np\n",
        "import matplotlib.pyplot as plt\n",
        "from IPython import display\n",
        "from google_drive_downloader import GoogleDriveDownloader as gdd\n",
        "import os\n",
        "import sys\n",
        "from sklearn.metrics import confusion_matrix"
      ],
      "execution_count": 5,
      "outputs": []
    },
    {
      "cell_type": "markdown",
      "metadata": {
        "id": "qGdoufr7VK0-"
      },
      "source": [
        "### Download dữ liệu và các utility functions"
      ]
    },
    {
      "cell_type": "code",
      "metadata": {
        "colab": {
          "base_uri": "https://localhost:8080/"
        },
        "id": "2GG7Zj3aVK0_",
        "outputId": "240b5e2d-588a-4aae-eb8b-ae831346daf8"
      },
      "source": [
        "# DOWNLOAD DATA\n",
        "gdd.download_file_from_google_drive(file_id='1EXSdvCLlcXvl1Gi6sNSJCu6psICoLNNc', \n",
        "                                    dest_path=os.path.join(os.getcwd(), 'Assignment2.zip'), unzip=True)\n",
        "\n",
        "if sys.platform.startswith(\"win\"):\n",
        "    !move \"./Assignment2/data\" \".\"\n",
        "    !move \"./Assignment2/test\" \".\"A\n",
        "    !move \"./Assignment2/utils\" \".\"\n",
        "    !del \"Assignment2.zip\"\n",
        "    !rd /s /q \"Assignment2\" \"__MACOSX\"\n",
        "    !dir\n",
        "else:\n",
        "    !mv Assignment2/* .\n",
        "    !rm Assignment2.zip\n",
        "    !rm -rf Assignment2 __MACOSX\n",
        "    # SHOW THE ITEMS OF CURRENT DIRRECTORY\n",
        "    !ls"
      ],
      "execution_count": 6,
      "outputs": [
        {
          "output_type": "stream",
          "text": [
            "Downloading 1EXSdvCLlcXvl1Gi6sNSJCu6psICoLNNc into /content/Assignment2.zip... Done.\n",
            "Unzipping...Done.\n",
            "data  sample_data  test  utils\n"
          ],
          "name": "stdout"
        }
      ]
    },
    {
      "cell_type": "code",
      "metadata": {
        "id": "UsUETR3AVixy"
      },
      "source": [
        ""
      ],
      "execution_count": null,
      "outputs": []
    },
    {
      "cell_type": "markdown",
      "metadata": {
        "id": "ctdckAhpYkqf"
      },
      "source": [
        "### Import utility functions"
      ]
    },
    {
      "cell_type": "code",
      "metadata": {
        "id": "sJeV7fvvYtl1"
      },
      "source": [
        "from utils.util import *\n",
        "from utils.gradient_check import *"
      ],
      "execution_count": 7,
      "outputs": []
    },
    {
      "cell_type": "markdown",
      "metadata": {
        "id": "PVLd-jBpVK1B"
      },
      "source": [
        "### Các hàm activation\n",
        "\n",
        "$$sigmoid(x) = \\frac{1}{1+e^{-x}}$$ \n",
        "\n",
        "$$tanh(x) = \\frac{e^{x} - e^{-x}}{e^{x} + e^{-x}} $$\n",
        "\n",
        "$$relu(x) = \\begin{cases} x, & \\mbox{if } x > 0 \\\\ 0, & \\mbox{if } x <= 0 \\end{cases}$$\n",
        "\n",
        "$$sigmoid'(x) = sigmoid(x)(1 - sigmoid(x)) $$\n",
        "\n",
        "$$tanh'(x) = 1 - tanh^2(x)$$\n",
        "\n",
        "$$relu'(x) = \\begin{cases} 1, & \\mbox{if } x > 0 \\\\ 0, & \\mbox{if } x <= 0 \\end{cases}$$"
      ]
    },
    {
      "cell_type": "markdown",
      "metadata": {
        "id": "uQxzv26Lo1a_"
      },
      "source": [
        "#### \\[TODO 1\\] Cài đặt các hàm activation\n",
        "Định nghĩa các hàm activation ở cell bên dưới. (1đ)"
      ]
    },
    {
      "cell_type": "code",
      "metadata": {
        "id": "hI_pLSHVVK1C"
      },
      "source": [
        "def sigmoid(x):\n",
        "    \"\"\"\n",
        "    Sigmoid function.\n",
        "    :param x: input\n",
        "    \"\"\"\n",
        "    #### [TODO 1] START CODE HERE #### \n",
        "    result = 1/ (1 + np.exp(-1 * x.copy()))\n",
        "    #### END CODE HERE ####\n",
        "    return result\n",
        "\n",
        "\n",
        "def sigmoid_grad(x):\n",
        "    \"\"\"\n",
        "    Compute gradient of sigmoid.\n",
        "    :param x: input\n",
        "    \"\"\"\n",
        "    \n",
        "    #### [TODO 1] START CODE HERE #### \n",
        "    da = sigmoid(x) * (1 - sigmoid(x.copy()))\n",
        "    #### END CODE HERE ####\n",
        "    return da\n",
        "\n",
        "\n",
        "def relu(x):\n",
        "    \"\"\"\n",
        "    Rectified linear unit function.\n",
        "    :param x: input\n",
        "    \"\"\"\n",
        "    \n",
        "    #### [TODO 1] START CODE HERE #### \n",
        "    result = x.copy()\n",
        "    result[(result <= 0)] = 0\n",
        "    #### END CODE HERE ####\n",
        "    return result\n",
        "\n",
        "\n",
        "def relu_grad(x):\n",
        "    \"\"\"\n",
        "    Compute gradient of ReLU.\n",
        "    :param x: input\n",
        "    \"\"\"\n",
        "    \n",
        "    #### [TODO 1] START CODE HERE #### \n",
        "    da = x.copy()\n",
        "    da[da > 0] = 1\n",
        "    da[da <= 0] = 0\n",
        "    #### END CODE HERE ####\n",
        "    return da\n",
        "\n",
        "\n",
        "def tanh(x):\n",
        "    \"\"\"\n",
        "    Tanh function.\n",
        "    :param x: input\n",
        "    \"\"\"\n",
        "   \n",
        "    #### [TODO 1] START CODE HERE #### \n",
        "    x = x.copy()\n",
        "    result = (np.exp(x) - np.exp(-1 * x))/ (np.exp(x) + np.exp(-1 * x))\n",
        "    #### END CODE HERE ####\n",
        "    return result\n",
        "\n",
        "\n",
        "def tanh_grad(x):\n",
        "    \"\"\"\n",
        "    Compute gradient for tanh.\n",
        "    :param x: input\n",
        "    \"\"\"\n",
        "\n",
        "    #### [TODO 1] START CODE HERE ####\n",
        "    da =  1 - np.square(tanh(x))\n",
        "    #### END CODE HERE ####\n",
        "    return da\n",
        "\n",
        "def softmax(x):\n",
        "    \"\"\"\n",
        "    Stable softmax function.\n",
        "    :param x: input\n",
        "    \"\"\"\n",
        "    #### [TODO 1] START CODE HERE ####\n",
        "    z = x.copy()\n",
        "    s = np.atleast_2d(np.sum(np.exp(z), axis = 1)).T\n",
        "    probs = np.exp(z)/ s\n",
        "    #### END CODE HERE ####\n",
        "    return (probs) "
      ],
      "execution_count": null,
      "outputs": []
    },
    {
      "cell_type": "markdown",
      "metadata": {
        "id": "0c92wODTVK1E"
      },
      "source": [
        "#### Kiểm tra lại lại các hàm activation đã cài đặt\n",
        "\n",
        "Bạn có thể kiểm tra cái hàm bạn đã cài đặt bằng đoạn code bên dưới."
      ]
    },
    {
      "cell_type": "code",
      "metadata": {
        "colab": {
          "base_uri": "https://localhost:8080/"
        },
        "id": "Neen94acVK1E",
        "outputId": "a7e6a334-aa76-4d3d-b0d9-d436e443a5c4"
      },
      "source": [
        "import pickle\n",
        "\n",
        "np.random.seed(2019)\n",
        "func_test = [\"sigmoid\", \"relu\", \"tanh\", \"sigmoid_grad\", \"relu_grad\", \"tanh_grad\", \"softmax\"]\n",
        "test_activation = dict()\n",
        "results = []\n",
        "with open(\"test/activation.pkl\", \"rb\") as f:\n",
        "    test_activation = pickle.load(f)\n",
        "\n",
        "test_x = test_activation[\"test_x\"]\n",
        "sample = test_activation[\"sample\"]\n",
        "\n",
        "for i, func_str in enumerate(func_test):\n",
        "    func = eval(func_str)\n",
        "    if func(test_x) is None:\n",
        "        results.append(func_str)\n",
        "        continue\n",
        "    sample.append(func(test_x))\n",
        "    if not np.allclose(func(test_x), sample[i]):\n",
        "        results.append(func_str)\n",
        "\n",
        "if len(results) == 0:\n",
        "    print(\"Test PASS!\")\n",
        "else:\n",
        "    print(\"Test FAILED: \" + \", \".join(results))"
      ],
      "execution_count": null,
      "outputs": [
        {
          "output_type": "stream",
          "text": [
            "Test PASS!\n"
          ],
          "name": "stdout"
        }
      ]
    },
    {
      "cell_type": "markdown",
      "metadata": {
        "id": "VZTlOP46VK1G"
      },
      "source": [
        "### Class `HiddenLayer` \n",
        "\n",
        "#### Hướng dẫn:\n",
        "\n",
        "1. Hàm `forward`:\n",
        "- Hàm nhận vào tham số input $X$ (là output của hidden layer trước theo chiều forward, layer $l-1$).\n",
        "- Tính linear transformation của $X$ ($A^{[l-1]}$): $Z^{[l]} = XW$.\n",
        "- Sau đó tính nonlinear transformation: $A^{[l]} = \\sigma(Z^{[l]})$ với $\\sigma$ là hàm activation.\n",
        "    \n",
        "2. Hàm `backward`:\n",
        "- Hàm nhận vào 2 tham số input `X`(là output của hidden layer trước đó theo chiều forward) với `delta_prev` (delta trước đó theo chiều backward).\n",
        "- Tính delta tại layer $l$: \n",
        "    \n",
        "    $$\\delta^{[l]} = \\frac{\\partial J}{\\partial A^{[l]}}\\frac{\\partial A^{[l]}}{\\partial Z^{[l]}} =  \\delta^{[l+1]} * \\sigma'(Z^{[l]})$$ \n",
        "\n",
        "Chú ý: $*$ operation là element-wise multiplication.\n",
        "- Tính W_grad (without regularization): $\\nabla W^{[l]} = (A^{[l-1]})^T\\delta^{[l]} $\n",
        "- With regularization:  $\\nabla W^{[l]} = (A^{[l-1]})^T\\delta^{[l]} + \\frac{\\lambda}{m} W^{[l]}$ với $\\lambda$ là hệ số regularization (hyperparameter mình sẽ chọn)."
      ]
    },
    {
      "cell_type": "markdown",
      "metadata": {
        "id": "qfSLDffVYQdc"
      },
      "source": [
        "#### \\[TODO 2\\] Hàm `forward`\n",
        "Định nghĩa hàm `forward` trong class `HiddenLayer` (1đ)"
      ]
    },
    {
      "cell_type": "markdown",
      "metadata": {
        "id": "d4uUr2FKh97J"
      },
      "source": [
        "#### \\[TODO 3\\] Hàm `backward` \n",
        "Định nghĩa hàm `backward` trong class `HiddenLayer` (2đ)\n",
        "  + Tính W_grad (without regularization) (1đ)\n",
        "  + Tính W_grad (with L2 regularization) (1đ)"
      ]
    },
    {
      "cell_type": "code",
      "metadata": {
        "id": "eROUmEreVK1H"
      },
      "source": [
        "class HiddenLayer:\n",
        "    \"\"\"\n",
        "    Abstract hidden layer used in Neural Network.\n",
        "    \"\"\"\n",
        "    \n",
        "    def __init__(self, num_neurons, activation, reg = 0.0):\n",
        "        \"\"\"\n",
        "        Constructor for abstract hidden layer.\n",
        "        \n",
        "        Parameters\n",
        "        ----------\n",
        "        num_neurons: (integer) specify number of neurons in this layer.\n",
        "        activation: (string) indicating which activation function to be used.  \n",
        "                        the string must be in [\"sigmoid\", \"relu\", \"tanh\", \"softmax\"]\n",
        "        reg: (float) regularization coefficient to help with overfitting.\n",
        "        \"\"\"\n",
        "        assert activation in [\"sigmoid\", \"relu\", \"tanh\", \"softmax\"], \"Activation must be in [sigmoid, relu, tanh, softmax]\"\n",
        "        self.num_neurons = num_neurons\n",
        "        self.W = None \n",
        "        self.activation = activation\n",
        "        self.reg = reg\n",
        "\n",
        "    def forward(self, X):\n",
        "        \"\"\"\n",
        "        Compute nonlinear function of input X.\n",
        "            X -> LINEAR -> ACTIVATION.\n",
        "            \n",
        "        `activation_function` variable below is equal to this piece of code:\n",
        "        \n",
        "            if (self.activation == 'sigmoid'):\n",
        "                activation_function = sigmoid\n",
        "            elif (self.activation == 'relu'):\n",
        "                activation_function = reLU\n",
        "            elif (self.activation == 'tanh'):\n",
        "                activation_function = tanh\n",
        "            elif (self.activation == 'softmax'):\n",
        "                activation_function = softmax\n",
        "        \n",
        "        Parameters\n",
        "        ----------\n",
        "        X: output of the previous layer (input for the current layer).\n",
        "        \n",
        "        Returns\n",
        "        -------\n",
        "        A: output of the current layer.\n",
        "        \"\"\"\n",
        "        if self.W is None:\n",
        "            W_shape = (X.shape[1], self.num_neurons)\n",
        "            self.W = np.random.normal(0, np.sqrt(2/(X.shape[1]+self.num_neurons)), W_shape)\n",
        "        \n",
        "        activation_function = eval(self.activation) # this returns function variable\n",
        "        #### [TODO 2] START CODE HERE ####\n",
        "        self.Z = X @ self.W\n",
        "        A = activation_function(self.Z) # use `activation_function` function above apply to `Z`\n",
        "        #### END CODE HERE ####\n",
        "        return A\n",
        "\n",
        "    def backward(self, X, delta_prev):\n",
        "        \"\"\"\n",
        "        Compute gradient w.r.t X and W at the current layer.\n",
        "            X <- LINEAR <- ACTIVATION.\n",
        "            W <- LINEAR <- ACTIVATION.\n",
        "        \n",
        "        Parameters\n",
        "        ----------\n",
        "        X: output of the previous layer (input for the current layer).\n",
        "        delta_prev: delta dot product with W computed from the next layer (in feedforward direction) \n",
        "                                or previous layer (in backpropagation direction)\n",
        "        \"\"\"\n",
        "        activation_grad_function = eval(self.activation + \"_grad\")\n",
        "        z = self.Z\n",
        "\n",
        "        #### [TODO 3] START CODE HERE ####                                \n",
        "        delta = delta_prev * activation_grad_function(z)\n",
        "        W_grad = np.transpose(X) @ delta # without regularization\n",
        "        #### END CODE HERE ####\n",
        "\n",
        "        #### [TODO 3] START CODE HERE ####                            \n",
        "        W_grad += (self.reg/ X.shape[0]) * self.W  # with L2 regularization\n",
        "        #### END CODE HERE ####\n",
        "        \n",
        "        return W_grad, delta"
      ],
      "execution_count": null,
      "outputs": []
    },
    {
      "cell_type": "markdown",
      "metadata": {
        "id": "LKWbE4ESVK1I"
      },
      "source": [
        "#### Kiểm tra class `HiddenLayer` được cài đặt\n",
        "\n",
        "Sau khi hoàn thành TODO 2 và TODO 3, bạn có thể kiểm tra class `HiddenLayer` bạn đã cài đặt bằng cách chạy cell bên dưới:"
      ]
    },
    {
      "cell_type": "code",
      "metadata": {
        "colab": {
          "base_uri": "https://localhost:8080/"
        },
        "id": "vUZJGVMuVK1J",
        "outputId": "f538f852-1e5a-4808-a62d-0b24c0c4b261"
      },
      "source": [
        "np.random.seed(2019)\n",
        "case_1 = HiddenLayer(10, \"sigmoid\", reg=0)\n",
        "case_2 = HiddenLayer(14, \"tanh\", reg=0)\n",
        "case_3 = HiddenLayer(17, \"relu\", reg=0)\n",
        "\n",
        "case_mapping = {0: \"(foward)\", 1: \"(backward W_grad)\", 2: \"(backward delta)\"}\n",
        "\n",
        "with open(\"test/hidden.pkl\", \"rb\") as f:\n",
        "    test_hidden = pickle.load(f)\n",
        "\n",
        "test_x = test_hidden[\"test_x\"]\n",
        "sample = test_hidden[\"sample\"]\n",
        "test_delta = test_hidden[\"test_delta\"]\n",
        "results = []\n",
        "for ind, cl_str in enumerate([\"case_1\", \"case_2\", \"case_3\"]):\n",
        "    hidden_layer = eval(cl_str)\n",
        "    case = (hidden_layer.forward(test_x), ) + hidden_layer.backward(test_x, test_delta[ind])\n",
        "    for i in range(3):\n",
        "        if not np.allclose(sample[ind][i], case[i]):\n",
        "            results.append(cl_str + case_mapping[i])\n",
        "\n",
        "print(\"TEST HiddenLayer WITHOUT REGULARIZATION\")\n",
        "if len(results) == 0:\n",
        "    print(\"Test PASS!\")\n",
        "else:\n",
        "    print(\"Test FAILED: \" + \", \".join(results))"
      ],
      "execution_count": null,
      "outputs": [
        {
          "output_type": "stream",
          "text": [
            "TEST HiddenLayer WITHOUT REGULARIZATION\n",
            "Test PASS!\n"
          ],
          "name": "stdout"
        }
      ]
    },
    {
      "cell_type": "markdown",
      "metadata": {
        "id": "t3490b6mfJwM"
      },
      "source": [
        "Các bạn nên chắc chắn rằng mình đã pass hết các test cases để làm tiếp."
      ]
    },
    {
      "cell_type": "markdown",
      "metadata": {
        "id": "P8HSsFNGfMqi"
      },
      "source": [
        "#### Kiểm tra Hidden Layer với Regularization\n",
        "\n",
        "Các bạn có thể bỏ qua phần test case này nếu chưa làm với Regularization."
      ]
    },
    {
      "cell_type": "code",
      "metadata": {
        "colab": {
          "base_uri": "https://localhost:8080/"
        },
        "id": "dYsQBucQfQWq",
        "outputId": "fbcc26be-ed36-4a59-9182-c5f5fac04d9f"
      },
      "source": [
        "np.random.seed(2019)\n",
        "case_1 = HiddenLayer(10, \"sigmoid\", reg=0.9)\n",
        "case_2 = HiddenLayer(14, \"tanh\", reg=0.9)\n",
        "case_3 = HiddenLayer(17, \"relu\", reg=0.9)\n",
        "\n",
        "case_mapping = {0: \"(foward)\", 1: \"(backward W_grad)\", 2: \"(backward delta)\"}\n",
        "\n",
        "with open(\"test/hidden_reg.pkl\", \"rb\") as f:\n",
        "    test_hidden = pickle.load(f)\n",
        "\n",
        "test_x = test_hidden[\"test_x\"]\n",
        "sample = test_hidden[\"sample\"]\n",
        "test_delta = test_hidden[\"test_delta\"]\n",
        "results = []\n",
        "for ind, cl_str in enumerate([\"case_1\", \"case_2\", \"case_3\"]):\n",
        "    hidden_layer = eval(cl_str)\n",
        "    case = (hidden_layer.forward(test_x), ) + hidden_layer.backward(test_x, test_delta[ind])\n",
        "    for i in range(3):\n",
        "        if not np.allclose(sample[ind][i], case[i]):\n",
        "            results.append(cl_str + case_mapping[i])\n",
        "\n",
        "print(\"TEST HiddenLayer WITH REGULARIZATION\")\n",
        "if len(results) == 0:\n",
        "    print(\"Test PASS!\")\n",
        "else:\n",
        "    print(\"Test FAILED: \" + \", \".join(results))"
      ],
      "execution_count": null,
      "outputs": [
        {
          "output_type": "stream",
          "text": [
            "TEST HiddenLayer WITH REGULARIZATION\n",
            "Test PASS!\n"
          ],
          "name": "stdout"
        }
      ]
    },
    {
      "cell_type": "markdown",
      "metadata": {
        "id": "LRqpw1yWVK1K"
      },
      "source": [
        "### Class `NeuralNetwork`\n",
        "\n",
        "#### Hướng dẫn:\n",
        "\n",
        "1. Hàm `forward`:\n",
        "- Sử dụng hàm `forward` class `HiddenLayer`. Output của layer này [$l$] sẽ là input của layer sau [$l+1$]. Thêm output của layer [$l$] vào list `all_X` \n",
        "\n",
        "\n",
        "2. Hàm `compute_loss`:\n",
        "- Cross-entropy, không regularization: $$J = -\\frac{1}{m}\\sum_{i=1}^m\\sum_{k=1}^C y_{ik}\\log(a_{ik}^{[L]})$$\n",
        "- Cross-entropy, L2 regularization: $$J = -\\frac{1}{m}\\sum_{i=1}^m\\sum_{k=1}^C y_{ik}\\log(a_{ik}^{[L]}) + \\frac{\\lambda}{2m}\\sum_{l=1}^L\\|\\mathbf{W}^{[l]} \\|_2^2$$\n",
        "    \n",
        "    \n",
        "3. Hàm `backward`:\n",
        "\n",
        "- Tính `delta_last` $\\delta^{[L]} $ và `grad_last` $\\nabla W^{[L]}$ theo hàm softmax (để ý superscript [L]): \n",
        "    \n",
        "    $$\\delta^{[L]} = \\frac{\\partial J}{\\partial \\mathbf{A}^{[L]}}\\frac{\\partial \\mathbf{A}^{[L]}}{\\partial \\mathbf{Z}^{[L]}} = \\frac{1}{m} (\\mathbf{A}^{[L]} - \\mathbf{Y})$$\n",
        "\n",
        "    - **Without regularization:**\n",
        "        \n",
        "        $$\\nabla W^{[L]} = \\frac{\\partial J}{\\partial \\mathbf{A}^{[L]}}\\frac{\\partial \\mathbf{A}^{[L]}}{\\partial \\mathbf{Z}^{[L]}}\\frac{\\partial \\mathbf{Z}^{[L]}}{\\partial \\mathbf{W}^{[L]}} = \\delta^{[L]} \\frac{\\partial \\mathbf{Z}^{[L]}}{\\partial \\mathbf{W}^{[L]}} = (\\mathbf{A}^{[L-1]})^T \\delta^{[L]} $$\n",
        "\n",
        "    - **With L2 regularization:**\n",
        "\n",
        "        $$\\nabla \\mathbf{W}^{[L]} = (\\mathbf{A}^{[L-1]})^T \\delta^{[L]} + \\frac{\\lambda}{m} W^{[l]}$$\n",
        "\n",
        "- Tính `delta_prev` $\\delta^{[l]}$ và `grad_W` $\\nabla \\mathbf{W}^{[l]}$ ở các tầng ở giữa:\n",
        "    \n",
        "    $$\\delta^{[l]} = \\left(\\delta^{[l+1]}(\\mathbf{W}^{[l+1]})^T\\right) * \\sigma'(\\mathbf{Z^{[l]}})$$\n",
        "    \n",
        "    - **Without regularization**\n",
        "        \n",
        "        $$\\nabla \\mathbf{W}^{[l]} = (\\mathbf{A}^{[l-1]})^T \\delta^{[l]}$$\n",
        "\n",
        "    - **With L2 regularization**\n",
        "\n",
        "        $$\\nabla \\mathbf{W}^{[l]} = (\\mathbf{A}^{[l-1]})^T \\delta^{[l]} + \\frac{\\lambda}{m} W^{[l]}$$\n",
        "        \n",
        "Mục đích tính `delta` để tính gradient của `W` ở các tầng trước theo chiều forward."
      ]
    },
    {
      "cell_type": "markdown",
      "metadata": {
        "id": "9sjTUfDesi3b"
      },
      "source": [
        "#### \\[TODO 4\\] Hàm `forward`\n",
        "Định nghĩa hàm `forward` trong class `NeuralNetwork` (0.5đ)"
      ]
    },
    {
      "cell_type": "markdown",
      "metadata": {
        "id": "TP4gB_yyjPoN"
      },
      "source": [
        "#### \\[TODO 5\\] Hàm `compute_loss`\n",
        "Định nghĩa hàm `compute_loss` trong class `NeuralNetwork` (1.5đ)\n",
        "  + Loss without regularization\n",
        "  + Loss of L2 regularization"
      ]
    },
    {
      "cell_type": "markdown",
      "metadata": {
        "id": "07CXsA6GjTXY"
      },
      "source": [
        "#### \\[TODO 6\\] Hàm `compute_delta_grad_last`\n",
        "Định nghĩa hàm `compute_delta_grad_last` trong class `NeuralNetwork` (1đ)\n",
        "  + Without regularization (0.5đ)\n",
        "  + With L2 regularization (0.5đ)"
      ]
    },
    {
      "cell_type": "markdown",
      "metadata": {
        "id": "JJjOZsXWjqz2"
      },
      "source": [
        "#### [TODO 7] Hàm `backward`\n",
        "Định nghĩa hàm `backward` trong class `NeuralNetwork` (1đ)"
      ]
    },
    {
      "cell_type": "markdown",
      "metadata": {
        "id": "Xv9USNyilQys"
      },
      "source": [
        "#### \\[TODO 8\\] Hàm `update_weight_momentum`\n",
        "Định nghĩa hàm `update_weight_momentum` trong class `NeuralNetwork`. (1đ)"
      ]
    },
    {
      "cell_type": "code",
      "metadata": {
        "id": "IqaUfUyZVK1L"
      },
      "source": [
        "class NeuralNetwork:\n",
        "    \n",
        "    def __init__(self, learning_rate, num_class=2, reg = 1e-5):\n",
        "        self.layers = []\n",
        "        self.reg = reg\n",
        "        self.num_class = num_class\n",
        "        self.learning_rate = learning_rate\n",
        "        \n",
        "    def add_layer(self, num_neurons, activation):\n",
        "        \"\"\"\n",
        "        Function to add a hidden layer to neural network.\n",
        "        \n",
        "        Parameters\n",
        "        ----------\n",
        "        num_neurons: hyperparameter that specify nuber of neurons new hidden layer have/\n",
        "        activation: string, indicating which activation function to be used\n",
        "        \"\"\"\n",
        "        assert activation in [\"sigmoid\", \"relu\", \"tanh\", \"softmax\"], \"Activation must be in [sigmoid, relu, tanh, softmax]\"\n",
        "        self.layers.append(HiddenLayer(num_neurons, activation, self.reg))\n",
        "\n",
        "    def forward(self, X):\n",
        "        \"\"\"\n",
        "        Do forward propagation in the neural network\n",
        "        \n",
        "        Parameters\n",
        "        ----------\n",
        "        X: raw input X.\n",
        "        \n",
        "        Returns\n",
        "        -------\n",
        "        all_X: list of all X computed at each layer. \n",
        "        \"\"\"\n",
        "        all_X = [X]\n",
        "        #### [TODO 4] START CODE HERE ####\n",
        "        for i in range(len(self.layers)):\n",
        "          all_X.append(self.layers[i].forward(all_X[i]))\n",
        "        #### END CODE HERE ####\n",
        "        \n",
        "        return all_X\n",
        "    \n",
        "    def compute_loss(self, Y, Y_hat):\n",
        "        \"\"\"\n",
        "        Compute the average cross entropy loss using Y (label) and Y_hat (predicted class)\n",
        "                    and plus with regularization loss.\n",
        "        Parameters\n",
        "        ----------\n",
        "        Y:  the label, the actual class of the samples. This is one-hot encoding vector.\n",
        "                E.g: [0, 1, 2, 1] => [[1, 0, 0],\n",
        "                                      [0, 1, 0],\n",
        "                                      [0, 0, 1],\n",
        "                                      [0, 1, 0]]\n",
        "        Y_hat: the propabilities of classes (output of softmax).\n",
        "        \n",
        "        Returns\n",
        "        -------\n",
        "        \n",
        "        \"\"\"\n",
        "        #estimating cross entropy loss from y_hat and y\n",
        "        #### [TODO 5] START CODE HERE ####\n",
        "        correct_log_probs = np.log(Y_hat)\n",
        "        data_loss = -1/ Y.shape[0] * np.sum(Y * correct_log_probs) # loss without regularization\n",
        "        #### END CODE HERE ####\n",
        "\n",
        "        #estimating regularization loss from all layers\n",
        "        \n",
        "        #### [TODO 5] START CODE HERE ####\n",
        "        # compute reg_loss\n",
        "        s = 0\n",
        "        for i in range(len(self.layers)):\n",
        "          s = s + np.sum(np.square(self.layers[i].W))\n",
        "        reg_loss = self.reg/ (2 * Y.shape[0]) * s\n",
        "        #### END CODE HERE ####\n",
        "        data_loss += reg_loss # loss with L2 regularization\n",
        "\n",
        "        return data_loss\n",
        "\n",
        "    def compute_delta_grad_last(self, Y, all_X):\n",
        "        \"\"\"\n",
        "        Special formula to compute delta last and gradient last.\n",
        "        \n",
        "        Parameters\n",
        "        ----------\n",
        "        Y:  the label, the actual class of the samples. This is one-hot encoding vector.\n",
        "                E.g: [0, 1, 2, 1] => [[1, 0, 0],\n",
        "                                      [0, 1, 0],\n",
        "                                      [0, 0, 1],\n",
        "                                      [0, 1, 0]]\n",
        "                                      \n",
        "        all_X: raw input data and activation output from every layer\n",
        "        \"\"\"\n",
        "        m = Y.shape[0]\n",
        "        #### [TODO 6] START CODE HERE ####\n",
        "        delta_last = 1/m * (all_X[-1] - Y)\n",
        "        grad_last = np.transpose(all_X[-2]) @ delta_last + (self.reg/ m * self.layers[-1].W)\n",
        "        #### END CODE HERE ####\n",
        "        return delta_last, grad_last\n",
        "\n",
        "    def backward(self, Y, all_X):\n",
        "        \"\"\"\n",
        "        Backpropagation algorithm to compute gradient at each layer.\n",
        "\n",
        "        Parameters\n",
        "        ----------\n",
        "        Y:  the label, the actual class of the samples. This is one-hot encoding vector.\n",
        "                E.g: [0, 1, 2, 1] => [[1, 0, 0],\n",
        "                                      [0, 1, 0],\n",
        "                                      [0, 0, 1],\n",
        "                                      [0, 1, 0]]\n",
        "        all_X: raw input data and activation output from every layer\n",
        "        \n",
        "        Returns\n",
        "        -------\n",
        "        grad_list: list of gradients we've just computed at each layer.\n",
        "        \"\"\"\n",
        "        \n",
        "        # Compute delta_last and  grad_last from the output\n",
        "        delta_prev, grad_last = self.compute_delta_grad_last(Y, all_X)\n",
        "\n",
        "        grad_list = [grad_last]\n",
        "\n",
        "        for i in range(len(self.layers) - 1)[::-1]:\n",
        "            prev_layer = self.layers[i+1] # previous layer as backward direction\n",
        "            layer = self.layers[i]\n",
        "            X = all_X[i]\n",
        "            #### [TODO 7] START CODE HERE ####\n",
        "            delta_prev = delta_prev @ (prev_layer.W.T) # dot product of delta_prev and W_prev\n",
        "            grad_W, delta_prev = layer.backward(X, delta_prev)\n",
        "            #### END CODE HERE ####\n",
        "            grad_list.append(grad_W)\n",
        "\n",
        "        grad_list = grad_list[::-1]\n",
        "        return grad_list\n",
        "\n",
        "    def update_weight(self, grad_list):\n",
        "        \"\"\"\n",
        "        Update W by gradient descent using the computed gradient.\n",
        "        \n",
        "        Parameters\n",
        "        ----------\n",
        "        grad_list: (list) list of gradients from all layers that computed from backward function above\n",
        "        learning_rate: (float) learning rate for gradient descent.\n",
        "        \"\"\"\n",
        "        for i, layer in enumerate(self.layers):\n",
        "            grad = grad_list[i]\n",
        "            layer.W = layer.W - self.learning_rate * grad\n",
        "    \n",
        "    def update_weight_momentum(self, grad_list, momentum_rate):\n",
        "        \"\"\"\n",
        "        Update W using gradient descent with momentum\n",
        "\n",
        "        Parameters\n",
        "        ----------\n",
        "        grad_list: (list) list of gradients from all layers that computed from backward function above\n",
        "        learning_rate: (float) learning rate.\n",
        "        momentum_rate: (float) momentum rate.\n",
        "        \"\"\"\n",
        "        if not hasattr(self, \"momentum\"):\n",
        "            self.momentum = [np.zeros_like(grad) for grad in grad_list]\n",
        "            \n",
        "        #### [TODO 8] START CODE HERE ####\n",
        "        for i, layer in enumerate(self.layers):\n",
        "          grad = grad_list[i]\n",
        "          self.momentum[i] = momentum_rate * self.momentum[i] + self.learning_rate * grad\n",
        "          layer.W = layer.W - self.momentum[i]\n",
        "        #### END CODE HERE ####\n",
        "            \n",
        "    def predict(self, X_test):\n",
        "        Y_hat = self.forward(X_test)[-1]\n",
        "        return np.argmax(Y_hat, axis=1)"
      ],
      "execution_count": null,
      "outputs": []
    },
    {
      "cell_type": "markdown",
      "metadata": {
        "id": "Gz3F7s_sowbh"
      },
      "source": [
        "### Training\n",
        "\n",
        "Sau khi định nghĩa các classes HiddenLayer và NeuralNetwork, chúng ta thực hiện huấn luyện (training) mô hình. Trong bài tập này, 2 kỹ thuật training được giới thiệu:\n",
        "  \n",
        "  + Batch training\n",
        "  + Mini-batch training"
      ]
    },
    {
      "cell_type": "markdown",
      "metadata": {
        "id": "0FfLh29bo1Cd"
      },
      "source": [
        "#### Batch train"
      ]
    },
    {
      "cell_type": "markdown",
      "metadata": {
        "id": "A0JxaImbVK1N"
      },
      "source": [
        "Định nghĩa hàm `batch_train` để  train trên toàn dữ liệu. Có nghĩa là weights `W` trên mạng neural network sẽ được update trên toàn điểm dữ liệu, thay vì ở mỗi batch điểm dữ liệu như là `mini_batch_train`"
      ]
    },
    {
      "cell_type": "code",
      "metadata": {
        "id": "jFB3Ty-iVK1N"
      },
      "source": [
        " def batch_train(X_train, Y_train, epochs, neural_network, bat=False):\n",
        "    \"\"\"\n",
        "    Using batch train.\n",
        "    \n",
        "    Parameters\n",
        "    ----------\n",
        "    X_train: training data X.\n",
        "    Y_train: training data Y.\n",
        "    epochs: number of iterations that we should use to train.\n",
        "    neural_network: NeuralNetwork object instance above.\n",
        "    \"\"\"\n",
        "    all_loss = []\n",
        "    display_step = 100 if bat else 10\n",
        "    \n",
        "    for e in range(epochs):\n",
        "        all_X = neural_network.forward(X_train)\n",
        "        loss = neural_network.compute_loss(Y_train, all_X[-1])\n",
        "        grad_list = neural_network.backward(Y_train, all_X)\n",
        "        neural_network.update_weight_momentum(grad_list, 0.9)\n",
        "        \n",
        "        all_loss.append(loss)\n",
        "        \n",
        "        if (e+1) % display_step == 0:\n",
        "            display.clear_output(wait=True)\n",
        "            if bat:\n",
        "                y_hat = neural_network.forward(X_train)[-1]\n",
        "                visualize_point(X_train, np.argmax(Y_train,axis=1), y_hat)\n",
        "            plot_loss(all_loss, title=\"Loss epoch %s: %.4f\" % (e+1, loss), color=2)\n",
        "            plt.show()\n",
        "            plt.pause(0.01)"
      ],
      "execution_count": null,
      "outputs": []
    },
    {
      "cell_type": "markdown",
      "metadata": {
        "id": "l3sb-LfCVK1P"
      },
      "source": [
        "#### \\[TODO 9\\] Mini-batch train\n",
        "Định nghĩa hàm `mini_batch_train` (2đ)\n",
        "\n",
        "**Pseudocode:**\n",
        "\n",
        "```\n",
        "-> For each epoch do:\n",
        "    -> Shuffle data\n",
        "    -> Set initial loss at that epoch equal to 0\n",
        "    -> Calculate number of batches based on batch size and total number of data points\n",
        "    -> For each batch do:\n",
        "        -> all_X := nn.forward() at that batch, Y_hat is equal all_X[-1]\n",
        "        -> compute loss at that batch\n",
        "        -> initial loss += computed loss at that batch\n",
        "        -> grad_list := nn.backward()\n",
        "        -> update weights.\n",
        "```"
      ]
    },
    {
      "cell_type": "code",
      "metadata": {
        "id": "w_o23rbaVK1P"
      },
      "source": [
        " def minibatch_train(X_train, Y_train, epochs, batch_size, num_class, neural_network, bat = False):\n",
        "    \"\"\"\n",
        "    Using batch train.\n",
        "    \n",
        "    Parameters\n",
        "    ----------\n",
        "    X_train: training data X.\n",
        "    Y_train: training data Y.\n",
        "    epochs: number of iterations that we should use to train.\n",
        "    batch_size: number of batch at each update.\n",
        "    neural_network: NeuralNetwork object instance above.\n",
        "    \n",
        "    \"\"\"\n",
        "    all_loss = []\n",
        "    display_step = 100 if bat else 10\n",
        "\n",
        "    #### [TODO 9] START CODE HERE ####\n",
        "    for i in range(epochs):\n",
        "      Data = np.concatenate((X_train, Y_train), axis = 1)\n",
        "      np.random.shuffle(Data)\n",
        "      new_X_train = Data[:, : X_train.shape[1]]\n",
        "      new_Y_train = Data[:, X_train.shape[1]:]\n",
        "      \n",
        "      initial_loss = 0\n",
        "      num_patch = len(X_train)// batch_size\n",
        "      remain = len(X_train) % batch_size\n",
        "      for i in range(num_patch):\n",
        "        mini_X = new_X_train[(i * batch_size) : ((i+1) * batch_size), :]\n",
        "        mini_Y = new_Y_train[(i * batch_size) : ((i+1) * batch_size), :]\n",
        "        all_X = neural_network.forward(mini_X)\n",
        "        loss = neural_network.compute_loss(mini_Y, all_X[-1])\n",
        "        initial_loss = initial_loss + loss\n",
        "        grad_list = neural_network.backward(mini_Y, all_X)\n",
        "        neural_network.update_weight_momentum(grad_list, 0.9)\n",
        "\n",
        "      if remain != 0:\n",
        "        mini_X = new_X_train[-remain :, : ]\n",
        "        mini_Y = new_Y_train[-remain :, : ]\n",
        "        all_X = neural_network.forward(mini_X)\n",
        "        loss = neural_network.compute_loss(mini_Y, all_X[-1])\n",
        "        initial_loss = initial_loss + loss\n",
        "        grad_list = neural_network.backward(mini_Y, all_X)\n",
        "        neural_network.update_weight_momentum(grad_list, 0.9)\n",
        "      \n",
        "      all_loss.append(initial_loss)\n",
        "        \n",
        "      if (i+1) % display_step == 0:\n",
        "          display.clear_output(wait=True)\n",
        "          if bat:\n",
        "              y_hat = neural_network.forward(X_train)[-1]\n",
        "              visualize_point(X_train, np.argmax(Y_train,axis=1), y_hat)\n",
        "          plot_loss(all_loss, title=\"Loss epoch %s: %.4f\" % (e+1, loss), color=2)\n",
        "          plt.show()\n",
        "          plt.pause(0.01)\n",
        "\n",
        "    #### END CODE HERE ####"
      ],
      "execution_count": null,
      "outputs": []
    },
    {
      "cell_type": "markdown",
      "metadata": {
        "id": "b0DirH620RYD"
      },
      "source": [
        "### Bat Classification"
      ]
    },
    {
      "cell_type": "markdown",
      "metadata": {
        "id": "bpnU_FBy1IId"
      },
      "source": [
        "#### Hyperparameters"
      ]
    },
    {
      "cell_type": "code",
      "metadata": {
        "id": "X22sH6ug1LqZ"
      },
      "source": [
        "# Thay đổi giá trị của các hyperparameter bên dưới và\n",
        "# quan sát sự thay đổi của loss và quá trình training \n",
        "EPOCHS = 4000\n",
        "LEARNING_RATE = 0.05\n",
        "REG= 1e-5\n",
        "BATCH_SIZE = 128"
      ],
      "execution_count": null,
      "outputs": []
    },
    {
      "cell_type": "markdown",
      "metadata": {
        "id": "mUGCZeKq2M-I"
      },
      "source": [
        "#### Định nghĩa hàm `bat_classification`"
      ]
    },
    {
      "cell_type": "code",
      "metadata": {
        "id": "7R_OW98uVK1R"
      },
      "source": [
        "def bat_classification(use_batch_train=True):\n",
        "    # Load data from file\n",
        "    # Make sure that bat.dat is in data/\n",
        "    train_X, train_Y, test_X, test_Y = get_bat_data()\n",
        "    train_X, _, test_X = normalize(train_X, train_X, test_X)    \n",
        "\n",
        "    test_Y  = test_Y.flatten()\n",
        "    train_Y = train_Y.flatten()\n",
        "    num_class = (np.unique(train_Y)).shape[0]\n",
        "\n",
        "    # Pad 1 as the third feature of train_x and test_x\n",
        "    train_X = add_one(train_X) \n",
        "    test_X = add_one(test_X)\n",
        "    \n",
        "    train_Y = create_one_hot(train_Y, num_class)\n",
        "\n",
        "    # Create NN classifier\n",
        "    # Bạn có thể biến đổi thêm/bớt hidden layer, thay đổi hàm activation cho mỗi layer\n",
        "    # và quan sát sự khác biệt trong quá trình train.\n",
        "    net = NeuralNetwork(learning_rate=LEARNING_RATE, num_class=num_class, reg=REG)\n",
        "    net.add_layer(100, 'relu')\n",
        "    net.add_layer(100, 'relu')\n",
        "    net.add_layer(100, 'relu')\n",
        "    net.add_layer(num_class, 'softmax')\n",
        "\n",
        "    if use_batch_train:\n",
        "        #Batch training - train all dataset\n",
        "        batch_train(train_X, train_Y, EPOCHS, net, True)\n",
        "    else:\n",
        "        #Minibatch training - training dataset using Minibatch approach\n",
        "        minibatch_train(train_X, train_Y, EPOCHS, BATCH_SIZE, num_class, net)\n",
        "    metrics = confusion_matrix(test_Y, net.predict(test_X))\n",
        "    print(\"Confusion metrix: \")\n",
        "    print(metrics)\n",
        "    \n",
        "    print(\"Accuracy: \")\n",
        "    print(metrics.trace()/test_Y.shape[0])"
      ],
      "execution_count": null,
      "outputs": []
    },
    {
      "cell_type": "markdown",
      "metadata": {
        "id": "muLdYJbV2dlM"
      },
      "source": [
        "#### Training"
      ]
    },
    {
      "cell_type": "code",
      "metadata": {
        "colab": {
          "base_uri": "https://localhost:8080/",
          "height": 755
        },
        "id": "4xn572XVVK1V",
        "scrolled": true,
        "outputId": "346a7974-fd73-4985-9770-7ea3ae6d69c8"
      },
      "source": [
        "bat_classification(use_batch_train=True)"
      ],
      "execution_count": null,
      "outputs": [
        {
          "output_type": "display_data",
          "data": {
            "image/png": "[encoded data removed]",
            "text/plain": [
              "<Figure size 864x432 with 2 Axes>"
            ]
          },
          "metadata": {
            "tags": []
          }
        },
        {
          "output_type": "display_data",
          "data": {
            "image/png": "[encoded data removed]",
            "text/plain": [
              "<Figure size 432x288 with 1 Axes>"
            ]
          },
          "metadata": {
            "tags": []
          }
        },
        {
          "output_type": "stream",
          "text": [
            "Confusion metrix: \n",
            "[[1464   23    0]\n",
            " [  66 1034    8]\n",
            " [   0   59  346]]\n",
            "Accuracy: \n",
            "0.948\n"
          ],
          "name": "stdout"
        }
      ]
    },
    {
      "cell_type": "markdown",
      "metadata": {
        "id": "dHRIZzum4Q7v"
      },
      "source": [
        "### MNIST Classification"
      ]
    },
    {
      "cell_type": "markdown",
      "metadata": {
        "id": "TAv5PeHq4YRQ"
      },
      "source": [
        "#### Hyperparameters"
      ]
    },
    {
      "cell_type": "code",
      "metadata": {
        "id": "89OE4gdG4bwy"
      },
      "source": [
        "# Thay đổi giá trị của các hyperparameter bên dưới và\n",
        "# quan sát sự thay đổi của loss và quá trình training\n",
        "EPOCHS = 300\n",
        "LEARNING_RATE = 0.01\n",
        "REG= 1e-5\n",
        "BATCH_SIZE = 64"
      ],
      "execution_count": null,
      "outputs": []
    },
    {
      "cell_type": "markdown",
      "metadata": {
        "id": "iFDjFonm5buD"
      },
      "source": [
        "#### Định nghĩa hàm `mnist_classification`"
      ]
    },
    {
      "cell_type": "code",
      "metadata": {
        "id": "_EDiru6zVK1S"
      },
      "source": [
        "def mnist_classification(use_batch_train=True):\n",
        "    # Load data from file\n",
        "    # Make sure that fashion-mnist/*.gz is in data/\n",
        "    train_X, train_Y, val_X, val_Y, test_X, test_Y = get_mnist_data(1)\n",
        "    train_X, val_X, test_X = normalize(train_X, val_X, test_X)    \n",
        "    \n",
        "    num_class = (np.unique(train_Y)).shape[0]\n",
        "\n",
        "    # Pad 1 as the third feature of train_x and test_x\n",
        "    train_X = add_one(train_X)\n",
        "    val_X = add_one(val_X)\n",
        "    test_X = add_one(test_X)\n",
        "    \n",
        "    train_Y = create_one_hot(train_Y, num_class)\n",
        "    val_Y = create_one_hot(val_Y, num_class)\n",
        "\n",
        "    # Create NN classifier\n",
        "    net = NeuralNetwork(learning_rate=LEARNING_RATE, num_class=num_class, reg=REG)\n",
        "    net.add_layer(128, 'relu')\n",
        "    net.add_layer(256, 'relu')\n",
        "    net.add_layer(100, 'relu')\n",
        "    net.add_layer(64, 'relu')\n",
        "    net.add_layer(num_class, 'softmax')\n",
        "    \n",
        "    if use_batch_train:\n",
        "        #Batch training - train all dataset\n",
        "        batch_train(train_X, train_Y, EPOCHS, net)\n",
        "    else:\n",
        "        #Minibatch training - training dataset using Minibatch approach\n",
        "        minibatch_train(train_X, train_Y, EPOCHS, BATCH_SIZE, num_class, net)\n",
        "    metrics = confusion_matrix(test_Y, net.predict(test_X))\n",
        "    print(\"Confusion metrix: \")\n",
        "    print(metrics)\n",
        "\n",
        "    print(\"Accuracy: \")\n",
        "    print(metrics.trace()/test_Y.shape[0])"
      ],
      "execution_count": null,
      "outputs": []
    },
    {
      "cell_type": "code",
      "metadata": {
        "colab": {
          "background_save": true,
          "base_uri": "https://localhost:8080/"
        },
        "id": "M9dLdHlaVK1X",
        "scrolled": false,
        "outputId": "b5040732-4d77-4dde-fb22-bae3931dc01e"
      },
      "source": [
        "mnist_classification(use_batch_train=False)"
      ],
      "execution_count": null,
      "outputs": [
        {
          "output_type": "stream",
          "text": [
            "Reading fashion MNIST data...\n",
            "Done reading\n",
            "Confusion metrix: \n",
            "[[836   1  25  19   3   3 107   0   6   0]\n",
            " [  5 978   1  13   1   0   1   0   1   0]\n",
            " [ 17   1 843   7  65   2  62   0   3   0]\n",
            " [ 27   9  12 883  35   0  28   0   6   0]\n",
            " [  2   2  82  29 828   0  57   0   0   0]\n",
            " [  0   0   0   1   0 960   0  19   2  18]\n",
            " [113   2  78  26  62   0 707   0  12   0]\n",
            " [  0   0   0   0   0  15   0 962   1  22]\n",
            " [  7   0   3   4   4   4   6   8 964   0]\n",
            " [  0   0   0   0   0   9   1  24   0 966]]\n",
            "Accuracy: \n",
            "0.8927\n"
          ],
          "name": "stdout"
        }
      ]
    },
    {
      "cell_type": "markdown",
      "metadata": {
        "id": "Pd7zbo_zVK1Y"
      },
      "source": [
        "## II. Thực hiện Deep Neural Network với Tensorflow\n",
        "\n",
        "Phân loại tập dữ liệu Bat và MNIST với tensorflow."
      ]
    },
    {
      "cell_type": "markdown",
      "metadata": {
        "id": "m51lTqD6rW73"
      },
      "source": [
        "### Import các thư viện cần thiết"
      ]
    },
    {
      "cell_type": "code",
      "metadata": {
        "id": "ozo-4la8VK1Z"
      },
      "source": [
        "import tensorflow as tf\n",
        "L = tf.keras.layers\n"
      ],
      "execution_count": 2,
      "outputs": []
    },
    {
      "cell_type": "code",
      "metadata": {
        "id": "7N8tbrbxVK1b"
      },
      "source": [
        "tf.keras.backend.clear_session()"
      ],
      "execution_count": 4,
      "outputs": []
    },
    {
      "cell_type": "markdown",
      "metadata": {
        "id": "ljzbayIbrmGw"
      },
      "source": [
        "### Cài đặt class `DNNModel`\n",
        "\n",
        "Trong phần này bạn có các TODO sau:"
      ]
    },
    {
      "cell_type": "markdown",
      "metadata": {
        "id": "YJNmEejir4pM"
      },
      "source": [
        "#### \\[TODO 10] Cài đặt kiến trúc mô hình\n",
        "\n",
        "Yêu cầu: xây dựng kiến trúc mạng với `tf.keras.Sequential()` để chồng các hidden layers và output layer với nhau. (1đ)"
      ]
    },
    {
      "cell_type": "markdown",
      "metadata": {
        "id": "fmKqmC97tttR"
      },
      "source": [
        "#### [TODO 11] Cài đặt hàm tính accuracy\n",
        "\n",
        "Cài đặt hàm tính accuracy. (1đ)"
      ]
    },
    {
      "cell_type": "markdown",
      "metadata": {
        "id": "aDJZnuTEvgzH"
      },
      "source": [
        "#### \\[TODO 12\\] Cài đặt hàm train\n",
        "Cài đặt các bước để train mô hình trong class `DNNModel`. (2đ)"
      ]
    },
    {
      "cell_type": "code",
      "metadata": {
        "id": "gO7GgBTzVK1c"
      },
      "source": [
        "class DNNModel:\n",
        "    def __init__(self, hidden_layers, num_classes, activation, epochs, optimizer):\n",
        "        self.hidden_layers = hidden_layers\n",
        "        self.num_classes = num_classes\n",
        "        self.activation = activation\n",
        "        self.epochs = epochs\n",
        "        self.optimizer = optimizer\n",
        "        \n",
        "        #Hidden layers and output layers are stacked to form a model\n",
        "        self.model = tf.keras.Sequential()\n",
        "        #### [TODO 10] START CODE HERE ####\n",
        "        #Add hidden layers\n",
        "        for i in range(len(self.hidden_layers)):\n",
        "          self.model.add(tf.keras.layers.Dense(self.hidden_layers[i], activation = self.activation))\n",
        "        \n",
        "        #Add output layer\n",
        "        self.model.add(tf.keras.layers.Dense(self.num_classes, activation = \"softmax\"))\n",
        "        #### END CODE HERE ####\n",
        "\n",
        "    def loss(self, y, y_hat):\n",
        "        \"\"\"\n",
        "        Compute loss function.\n",
        "        \n",
        "        Parameters\n",
        "        ----------\n",
        "        y_hat: output of the last layer (softmax layer).\n",
        "        y: labels/targets in our data.\n",
        "        \n",
        "        Returns\n",
        "        -------\n",
        "        Loss w.r.t y_hat and y. Should be a scalar.\n",
        "        \"\"\"\n",
        "        return tf.reduce_mean(-1 * tf.reduce_sum(y * tf.math.log(y_hat+1e-6), axis=1), axis=0)\n",
        "\n",
        "    def accuracy(self, y_hat, y):\n",
        "        \"\"\"\n",
        "        Compute accuracy score.\n",
        "        \n",
        "        Parameters\n",
        "        ----------\n",
        "        y_hat: output of the last layer (softmax layer).\n",
        "        y: labels/targets in our data.\n",
        "        \n",
        "        Returns\n",
        "        -------\n",
        "        Accuracy w.r.t y_hat and y. Should be a scalar.\n",
        "        \n",
        "        \"\"\"\n",
        "        #### [TODO 11] START CODE HERE ####\n",
        "        y_check = tf.argmax(y, axis = 1)\n",
        "        y_hat = tf.argmax(y_hat, axis=1)\n",
        "        count = [1 for i in range(len(y_hat)) if y_check[i] == y_hat[i]]\n",
        "        acc = len(count)/ len(y)\n",
        "        #### END CODE HERE ####\n",
        "        return acc\n",
        "\n",
        "    def train(self, x_train, y_train):\n",
        "        all_loss = []\n",
        "        all_acc = []\n",
        "        for e in range(self.epochs):\n",
        "            #### [TODO 12] START CODE HERE ####\n",
        "            self.model.compile(optimizer = self.optimizer, loss = \"categorical_crossentropy\", metrics = ['accuracy']) \n",
        "            self.model.fit(x = x_train, y = y_train)\n",
        "            y_hat = self.model(x_train)\n",
        "            accuracy = self.accuracy(y_hat, y_train)\n",
        "            loss = self.loss(y_train, y_hat)\n",
        "            #### END CODE HERE ####\n",
        "            \n",
        "            print(f\"\\rEpoch: {e}... Training loss: {loss}... Accuracy: {accuracy}\")\n",
        "\n",
        "    def predict(self, inputs):\n",
        "        Y_hat = self.model(inputs)\n",
        "        return tf.argmax(Y_hat, axis=1)"
      ],
      "execution_count": 14,
      "outputs": []
    },
    {
      "cell_type": "markdown",
      "metadata": {
        "id": "1H7YE6M4uccG"
      },
      "source": [
        "### Bat classification"
      ]
    },
    {
      "cell_type": "code",
      "metadata": {
        "id": "ZOEopv9gVK1f"
      },
      "source": [
        "def tf_bat_classification():\n",
        "     # Load data from file\n",
        "    # Make sure that bat.dat is in data/\n",
        "    train_X, train_Y, test_X, test_Y = get_bat_data()\n",
        "    train_X, _, test_X = normalize(train_X, train_X, test_X)    \n",
        "\n",
        "    test_Y  = test_Y.flatten()\n",
        "    train_Y = train_Y.flatten()\n",
        "    num_class = (np.unique(train_Y)).shape[0]\n",
        "\n",
        "    # Pad 1 as the third feature of train_x and test_x\n",
        "    train_X = add_one(train_X) \n",
        "    test_X = add_one(test_X)\n",
        "    \n",
        "    train_Y = create_one_hot(train_Y, num_class)\n",
        "    \n",
        "    # DNN parameters\n",
        "    hidden_layers = [100, 100, 100]\n",
        "    learning_rate = 0.001\n",
        "    epochs = 200\n",
        "    activation = tf.nn.relu\n",
        "    optimizer = tf.keras.optimizers.Adam(learning_rate = learning_rate)\n",
        "\n",
        "    #Initialize model\n",
        "    dnn = DNNModel(hidden_layers=hidden_layers, num_classes=num_class,\n",
        "                   activation=activation, epochs=epochs, optimizer=optimizer)\n",
        "    #Train\n",
        "    dnn.train(train_X, train_Y)\n",
        "\n",
        "    # TEST\n",
        "    # Confusion matrix\n",
        "    metrics = confusion_matrix(test_Y, dnn.predict(test_X))\n",
        "    print('Confusion matrix:')\n",
        "    print(metrics)\n",
        "    \n",
        "    print(\"Accuracy: \")\n",
        "    print(metrics.trace()/test_Y.shape[0])"
      ],
      "execution_count": 9,
      "outputs": []
    },
    {
      "cell_type": "code",
      "metadata": {
        "id": "SLs06JB9VK1i",
        "colab": {
          "base_uri": "https://localhost:8080/"
        },
        "outputId": "7a1f40e9-4df4-40a6-8807-819fe4689de3"
      },
      "source": [
        "tf_bat_classification()"
      ],
      "execution_count": 16,
      "outputs": [
        {
          "output_type": "stream",
          "text": [
            "Reading bat data...\n",
            "EOF Reached\n",
            "Done reading\n",
            "375/375 [==============================] - 1s 2ms/step - loss: 0.9411 - accuracy: 0.5196\n",
            "Epoch: 0... Training loss: 0.5773306488990784... Accuracy: 0.74475\n",
            "375/375 [==============================] - 1s 2ms/step - loss: 0.5223 - accuracy: 0.7636\n",
            "Epoch: 1... Training loss: 0.4932563900947571... Accuracy: 0.7691666666666667\n",
            "375/375 [==============================] - 1s 2ms/step - loss: 0.4303 - accuracy: 0.8091\n",
            "Epoch: 2... Training loss: 0.40476253628730774... Accuracy: 0.8065833333333333\n",
            "375/375 [==============================] - 1s 2ms/step - loss: 0.4011 - accuracy: 0.8141\n",
            "Epoch: 3... Training loss: 0.34448763728141785... Accuracy: 0.8550833333333333\n",
            "375/375 [==============================] - 1s 2ms/step - loss: 0.3391 - accuracy: 0.8509\n",
            "Epoch: 4... Training loss: 0.3896999955177307... Accuracy: 0.8195833333333333\n",
            "375/375 [==============================] - 1s 2ms/step - loss: 0.3539 - accuracy: 0.8399\n",
            "Epoch: 5... Training loss: 0.30487459897994995... Accuracy: 0.8614166666666667\n",
            "375/375 [==============================] - 1s 2ms/step - loss: 0.3111 - accuracy: 0.8589\n",
            "Epoch: 6... Training loss: 0.32975834608078003... Accuracy: 0.84975\n",
            "375/375 [==============================] - 1s 2ms/step - loss: 0.3211 - accuracy: 0.8554\n",
            "Epoch: 7... Training loss: 0.2760404348373413... Accuracy: 0.8803333333333333\n",
            "375/375 [==============================] - 1s 2ms/step - loss: 0.2966 - accuracy: 0.8676\n",
            "Epoch: 8... Training loss: 0.282711386680603... Accuracy: 0.8765833333333334\n",
            "375/375 [==============================] - 1s 2ms/step - loss: 0.2749 - accuracy: 0.8770\n",
            "Epoch: 9... Training loss: 0.2528645694255829... Accuracy: 0.8971666666666667\n",
            "375/375 [==============================] - 1s 2ms/step - loss: 0.2664 - accuracy: 0.8794\n",
            "Epoch: 10... Training loss: 0.2564235031604767... Accuracy: 0.887\n",
            "375/375 [==============================] - 1s 2ms/step - loss: 0.2613 - accuracy: 0.8850\n",
            "Epoch: 11... Training loss: 0.25039786100387573... Accuracy: 0.8885\n",
            "375/375 [==============================] - 1s 2ms/step - loss: 0.2595 - accuracy: 0.8885\n",
            "Epoch: 12... Training loss: 0.2383255958557129... Accuracy: 0.8915833333333333\n",
            "375/375 [==============================] - 1s 2ms/step - loss: 0.2479 - accuracy: 0.8893\n",
            "Epoch: 13... Training loss: 0.22711433470249176... Accuracy: 0.898\n",
            "375/375 [==============================] - 1s 2ms/step - loss: 0.2487 - accuracy: 0.8901\n",
            "Epoch: 14... Training loss: 0.22263295948505402... Accuracy: 0.9086666666666666\n",
            "375/375 [==============================] - 1s 2ms/step - loss: 0.2456 - accuracy: 0.8886\n",
            "Epoch: 15... Training loss: 0.3075641691684723... Accuracy: 0.8554166666666667\n",
            "375/375 [==============================] - 1s 2ms/step - loss: 0.2571 - accuracy: 0.8832\n",
            "Epoch: 16... Training loss: 0.21000678837299347... Accuracy: 0.9108333333333334\n",
            "375/375 [==============================] - 1s 2ms/step - loss: 0.2284 - accuracy: 0.8955\n",
            "Epoch: 17... Training loss: 0.21998831629753113... Accuracy: 0.8975\n",
            "375/375 [==============================] - 1s 2ms/step - loss: 0.2458 - accuracy: 0.8898\n",
            "Epoch: 18... Training loss: 0.2062075138092041... Accuracy: 0.9119166666666667\n",
            "375/375 [==============================] - 1s 2ms/step - loss: 0.2374 - accuracy: 0.8914\n",
            "Epoch: 19... Training loss: 0.2449524700641632... Accuracy: 0.8861666666666667\n",
            "375/375 [==============================] - 1s 2ms/step - loss: 0.2349 - accuracy: 0.8964\n",
            "Epoch: 20... Training loss: 0.2068728804588318... Accuracy: 0.904\n",
            "375/375 [==============================] - 1s 2ms/step - loss: 0.2200 - accuracy: 0.9033\n",
            "Epoch: 21... Training loss: 0.24976994097232819... Accuracy: 0.88625\n",
            "375/375 [==============================] - 1s 2ms/step - loss: 0.2124 - accuracy: 0.9051\n",
            "Epoch: 22... Training loss: 0.2570517659187317... Accuracy: 0.8853333333333333\n",
            "375/375 [==============================] - 1s 2ms/step - loss: 0.2119 - accuracy: 0.9049\n",
            "Epoch: 23... Training loss: 0.24719376862049103... Accuracy: 0.8850833333333333\n",
            "375/375 [==============================] - 1s 2ms/step - loss: 0.2231 - accuracy: 0.8980\n",
            "Epoch: 24... Training loss: 0.1937844604253769... Accuracy: 0.9163333333333333\n",
            "375/375 [==============================] - 1s 2ms/step - loss: 0.2018 - accuracy: 0.9116\n",
            "Epoch: 25... Training loss: 0.24044939875602722... Accuracy: 0.8921666666666667\n",
            "375/375 [==============================] - 1s 2ms/step - loss: 0.2030 - accuracy: 0.9112\n",
            "Epoch: 26... Training loss: 0.2607786953449249... Accuracy: 0.88375\n",
            "375/375 [==============================] - 1s 2ms/step - loss: 0.2227 - accuracy: 0.8996\n",
            "Epoch: 27... Training loss: 0.17065726220607758... Accuracy: 0.9276666666666666\n",
            "375/375 [==============================] - 1s 2ms/step - loss: 0.2023 - accuracy: 0.9118\n",
            "Epoch: 28... Training loss: 0.20031648874282837... Accuracy: 0.9130833333333334\n",
            "375/375 [==============================] - 1s 2ms/step - loss: 0.2123 - accuracy: 0.9059\n",
            "Epoch: 29... Training loss: 0.17264249920845032... Accuracy: 0.9283333333333333\n",
            "375/375 [==============================] - 1s 2ms/step - loss: 0.2206 - accuracy: 0.9045\n",
            "Epoch: 30... Training loss: 0.19872289896011353... Accuracy: 0.9090833333333334\n",
            "375/375 [==============================] - 1s 2ms/step - loss: 0.1970 - accuracy: 0.9140\n",
            "Epoch: 31... Training loss: 0.20270879566669464... Accuracy: 0.9185\n",
            "375/375 [==============================] - 1s 2ms/step - loss: 0.1818 - accuracy: 0.9231\n",
            "Epoch: 32... Training loss: 0.19673040509223938... Accuracy: 0.91725\n",
            "375/375 [==============================] - 1s 2ms/step - loss: 0.1931 - accuracy: 0.9162\n",
            "Epoch: 33... Training loss: 0.18557564914226532... Accuracy: 0.9220833333333334\n",
            "375/375 [==============================] - 1s 2ms/step - loss: 0.1809 - accuracy: 0.9205\n",
            "Epoch: 34... Training loss: 0.21139603853225708... Accuracy: 0.9023333333333333\n",
            "375/375 [==============================] - 1s 2ms/step - loss: 0.2150 - accuracy: 0.9071\n",
            "Epoch: 35... Training loss: 0.18266192078590393... Accuracy: 0.9203333333333333\n",
            "375/375 [==============================] - 1s 2ms/step - loss: 0.1940 - accuracy: 0.9128\n",
            "Epoch: 36... Training loss: 0.19144316017627716... Accuracy: 0.9175833333333333\n",
            "375/375 [==============================] - 1s 2ms/step - loss: 0.1903 - accuracy: 0.9206\n",
            "Epoch: 37... Training loss: 0.22905966639518738... Accuracy: 0.9026666666666666\n",
            "375/375 [==============================] - 1s 2ms/step - loss: 0.1860 - accuracy: 0.9226\n",
            "Epoch: 38... Training loss: 0.19079655408859253... Accuracy: 0.9156666666666666\n",
            "375/375 [==============================] - 1s 2ms/step - loss: 0.1813 - accuracy: 0.9239\n",
            "Epoch: 39... Training loss: 0.18340356647968292... Accuracy: 0.9195833333333333\n",
            "375/375 [==============================] - 1s 2ms/step - loss: 0.1954 - accuracy: 0.9177\n",
            "Epoch: 40... Training loss: 0.17193937301635742... Accuracy: 0.9244166666666667\n",
            "375/375 [==============================] - 1s 2ms/step - loss: 0.1861 - accuracy: 0.9182\n",
            "Epoch: 41... Training loss: 0.19515438377857208... Accuracy: 0.9155833333333333\n",
            "375/375 [==============================] - 1s 2ms/step - loss: 0.1898 - accuracy: 0.9190\n",
            "Epoch: 42... Training loss: 0.17250479757785797... Accuracy: 0.9285\n",
            "375/375 [==============================] - 1s 2ms/step - loss: 0.1930 - accuracy: 0.9230\n",
            "Epoch: 43... Training loss: 0.15261724591255188... Accuracy: 0.93575\n",
            "375/375 [==============================] - 1s 2ms/step - loss: 0.1698 - accuracy: 0.9300\n",
            "Epoch: 44... Training loss: 0.16871191561222076... Accuracy: 0.9299166666666666\n",
            "375/375 [==============================] - 1s 2ms/step - loss: 0.1759 - accuracy: 0.9244\n",
            "Epoch: 45... Training loss: 0.1702667474746704... Accuracy: 0.9255833333333333\n",
            "375/375 [==============================] - 1s 2ms/step - loss: 0.1898 - accuracy: 0.9154\n",
            "Epoch: 46... Training loss: 0.13883031904697418... Accuracy: 0.9453333333333334\n",
            "375/375 [==============================] - 1s 2ms/step - loss: 0.1655 - accuracy: 0.9278\n",
            "Epoch: 47... Training loss: 0.1706106960773468... Accuracy: 0.9295833333333333\n",
            "375/375 [==============================] - 1s 2ms/step - loss: 0.1934 - accuracy: 0.9179\n",
            "Epoch: 48... Training loss: 0.19802594184875488... Accuracy: 0.9156666666666666\n",
            "375/375 [==============================] - 1s 2ms/step - loss: 0.1846 - accuracy: 0.9161\n",
            "Epoch: 49... Training loss: 0.2379062920808792... Accuracy: 0.89575\n",
            "375/375 [==============================] - 1s 2ms/step - loss: 0.1961 - accuracy: 0.9137\n",
            "Epoch: 50... Training loss: 0.16812622547149658... Accuracy: 0.9295\n",
            "375/375 [==============================] - 1s 2ms/step - loss: 0.1610 - accuracy: 0.9325\n",
            "Epoch: 51... Training loss: 0.1603277325630188... Accuracy: 0.9304166666666667\n",
            "375/375 [==============================] - 1s 2ms/step - loss: 0.1741 - accuracy: 0.9272\n",
            "Epoch: 52... Training loss: 0.15118804574012756... Accuracy: 0.9369166666666666\n",
            "375/375 [==============================] - 1s 2ms/step - loss: 0.1654 - accuracy: 0.9285\n",
            "Epoch: 53... Training loss: 0.15687443315982819... Accuracy: 0.9334166666666667\n",
            "375/375 [==============================] - 1s 2ms/step - loss: 0.1879 - accuracy: 0.9217\n",
            "Epoch: 54... Training loss: 0.1515216827392578... Accuracy: 0.9355\n",
            "375/375 [==============================] - 1s 2ms/step - loss: 0.1807 - accuracy: 0.9227\n",
            "Epoch: 55... Training loss: 0.16923411190509796... Accuracy: 0.9275\n",
            "375/375 [==============================] - 1s 2ms/step - loss: 0.1681 - accuracy: 0.9281\n",
            "Epoch: 56... Training loss: 0.14127422869205475... Accuracy: 0.9380833333333334\n",
            "375/375 [==============================] - 1s 2ms/step - loss: 0.1618 - accuracy: 0.9303\n",
            "Epoch: 57... Training loss: 0.1802157461643219... Accuracy: 0.9229166666666667\n",
            "375/375 [==============================] - 1s 2ms/step - loss: 0.1692 - accuracy: 0.9271\n",
            "Epoch: 58... Training loss: 0.16164031624794006... Accuracy: 0.9280833333333334\n",
            "375/375 [==============================] - 1s 2ms/step - loss: 0.1597 - accuracy: 0.9313\n",
            "Epoch: 59... Training loss: 0.23996318876743317... Accuracy: 0.9\n",
            "375/375 [==============================] - 1s 2ms/step - loss: 0.1732 - accuracy: 0.9236\n",
            "Epoch: 60... Training loss: 0.1686844825744629... Accuracy: 0.9308333333333333\n",
            "375/375 [==============================] - 1s 2ms/step - loss: 0.1673 - accuracy: 0.9255\n",
            "Epoch: 61... Training loss: 0.234028160572052... Accuracy: 0.9008333333333334\n",
            "375/375 [==============================] - 1s 2ms/step - loss: 0.1590 - accuracy: 0.9312\n",
            "Epoch: 62... Training loss: 0.1574738621711731... Accuracy: 0.93225\n",
            "375/375 [==============================] - 1s 2ms/step - loss: 0.1740 - accuracy: 0.9282\n",
            "Epoch: 63... Training loss: 0.16623137891292572... Accuracy: 0.9255\n",
            "375/375 [==============================] - 1s 2ms/step - loss: 0.1721 - accuracy: 0.9268\n",
            "Epoch: 64... Training loss: 0.13799259066581726... Accuracy: 0.9434166666666667\n",
            "375/375 [==============================] - 1s 2ms/step - loss: 0.1647 - accuracy: 0.9301\n",
            "Epoch: 65... Training loss: 0.195887953042984... Accuracy: 0.9164166666666667\n",
            "375/375 [==============================] - 1s 2ms/step - loss: 0.1702 - accuracy: 0.9262\n",
            "Epoch: 66... Training loss: 0.1545000970363617... Accuracy: 0.9301666666666667\n",
            "375/375 [==============================] - 1s 2ms/step - loss: 0.1789 - accuracy: 0.9234\n",
            "Epoch: 67... Training loss: 0.16272957623004913... Accuracy: 0.9323333333333333\n",
            "375/375 [==============================] - 1s 2ms/step - loss: 0.1587 - accuracy: 0.9314\n",
            "Epoch: 68... Training loss: 0.14739017188549042... Accuracy: 0.9338333333333333\n",
            "375/375 [==============================] - 1s 2ms/step - loss: 0.1523 - accuracy: 0.9356\n",
            "Epoch: 69... Training loss: 0.1312481313943863... Accuracy: 0.9444166666666667\n",
            "375/375 [==============================] - 1s 2ms/step - loss: 0.1626 - accuracy: 0.9297\n",
            "Epoch: 70... Training loss: 0.1555284559726715... Accuracy: 0.9366666666666666\n",
            "375/375 [==============================] - 1s 2ms/step - loss: 0.1579 - accuracy: 0.9322\n",
            "Epoch: 71... Training loss: 0.15133841335773468... Accuracy: 0.935\n",
            "375/375 [==============================] - 1s 2ms/step - loss: 0.1394 - accuracy: 0.9420\n",
            "Epoch: 72... Training loss: 0.21766981482505798... Accuracy: 0.9083333333333333\n",
            "375/375 [==============================] - 1s 2ms/step - loss: 0.1683 - accuracy: 0.9288\n",
            "Epoch: 73... Training loss: 0.14324218034744263... Accuracy: 0.94\n",
            "375/375 [==============================] - 1s 2ms/step - loss: 0.1498 - accuracy: 0.9346\n",
            "Epoch: 74... Training loss: 0.15899468958377838... Accuracy: 0.92825\n",
            "375/375 [==============================] - 1s 2ms/step - loss: 0.1710 - accuracy: 0.9268\n",
            "Epoch: 75... Training loss: 0.16236397624015808... Accuracy: 0.9335833333333333\n",
            "375/375 [==============================] - 1s 2ms/step - loss: 0.1637 - accuracy: 0.9298\n",
            "Epoch: 76... Training loss: 0.15067370235919952... Accuracy: 0.93375\n",
            "375/375 [==============================] - 1s 2ms/step - loss: 0.1497 - accuracy: 0.9387\n",
            "Epoch: 77... Training loss: 0.14019887149333954... Accuracy: 0.94175\n",
            "375/375 [==============================] - 1s 2ms/step - loss: 0.1581 - accuracy: 0.9296\n",
            "Epoch: 78... Training loss: 0.14237622916698456... Accuracy: 0.9353333333333333\n",
            "375/375 [==============================] - 1s 2ms/step - loss: 0.1553 - accuracy: 0.9342\n",
            "Epoch: 79... Training loss: 0.13143424689769745... Accuracy: 0.943\n",
            "375/375 [==============================] - 1s 2ms/step - loss: 0.1570 - accuracy: 0.9346\n",
            "Epoch: 80... Training loss: 0.12584853172302246... Accuracy: 0.9476666666666667\n",
            "375/375 [==============================] - 1s 2ms/step - loss: 0.1496 - accuracy: 0.9357\n",
            "Epoch: 81... Training loss: 0.13699007034301758... Accuracy: 0.9410833333333334\n",
            "375/375 [==============================] - 1s 2ms/step - loss: 0.1619 - accuracy: 0.9303\n",
            "Epoch: 82... Training loss: 0.137881800532341... Accuracy: 0.94\n",
            "375/375 [==============================] - 1s 2ms/step - loss: 0.1556 - accuracy: 0.9325\n",
            "Epoch: 83... Training loss: 0.19284950196743011... Accuracy: 0.9158333333333334\n",
            "375/375 [==============================] - 1s 2ms/step - loss: 0.1493 - accuracy: 0.9369\n",
            "Epoch: 84... Training loss: 0.178207129240036... Accuracy: 0.9238333333333333\n",
            "375/375 [==============================] - 1s 3ms/step - loss: 0.1380 - accuracy: 0.9421\n",
            "Epoch: 85... Training loss: 0.17846907675266266... Accuracy: 0.9228333333333333\n",
            "375/375 [==============================] - 1s 2ms/step - loss: 0.1590 - accuracy: 0.9318\n",
            "Epoch: 86... Training loss: 0.1189296692609787... Accuracy: 0.95125\n",
            "375/375 [==============================] - 1s 2ms/step - loss: 0.1489 - accuracy: 0.9356\n",
            "Epoch: 87... Training loss: 0.1674850881099701... Accuracy: 0.9284166666666667\n",
            "375/375 [==============================] - 1s 2ms/step - loss: 0.1383 - accuracy: 0.9395\n",
            "Epoch: 88... Training loss: 0.141178697347641... Accuracy: 0.939\n",
            "375/375 [==============================] - 1s 2ms/step - loss: 0.1398 - accuracy: 0.9408\n",
            "Epoch: 89... Training loss: 0.12807908654212952... Accuracy: 0.9469166666666666\n",
            "375/375 [==============================] - 1s 2ms/step - loss: 0.1499 - accuracy: 0.9380\n",
            "Epoch: 90... Training loss: 0.16912490129470825... Accuracy: 0.9261666666666667\n",
            "375/375 [==============================] - 1s 2ms/step - loss: 0.1542 - accuracy: 0.9374\n",
            "Epoch: 91... Training loss: 0.18079020082950592... Accuracy: 0.92075\n",
            "375/375 [==============================] - 1s 2ms/step - loss: 0.1474 - accuracy: 0.9376\n",
            "Epoch: 92... Training loss: 0.13960866630077362... Accuracy: 0.9408333333333333\n",
            "375/375 [==============================] - 1s 2ms/step - loss: 0.1490 - accuracy: 0.9356\n",
            "Epoch: 93... Training loss: 0.12486740946769714... Accuracy: 0.94725\n",
            "375/375 [==============================] - 1s 2ms/step - loss: 0.1439 - accuracy: 0.9364\n",
            "Epoch: 94... Training loss: 0.15524746477603912... Accuracy: 0.9336666666666666\n",
            "375/375 [==============================] - 1s 2ms/step - loss: 0.1652 - accuracy: 0.9320\n",
            "Epoch: 95... Training loss: 0.16892288625240326... Accuracy: 0.926\n",
            "375/375 [==============================] - 1s 2ms/step - loss: 0.1511 - accuracy: 0.9333\n",
            "Epoch: 96... Training loss: 0.14704295992851257... Accuracy: 0.937\n",
            "375/375 [==============================] - 1s 2ms/step - loss: 0.1566 - accuracy: 0.9320\n",
            "Epoch: 97... Training loss: 0.18370261788368225... Accuracy: 0.91575\n",
            "375/375 [==============================] - 1s 2ms/step - loss: 0.1565 - accuracy: 0.9336\n",
            "Epoch: 98... Training loss: 0.14090123772621155... Accuracy: 0.93875\n",
            "375/375 [==============================] - 1s 2ms/step - loss: 0.1389 - accuracy: 0.9393\n",
            "Epoch: 99... Training loss: 0.1612466424703598... Accuracy: 0.9315833333333333\n",
            "375/375 [==============================] - 1s 2ms/step - loss: 0.1441 - accuracy: 0.9364\n",
            "Epoch: 100... Training loss: 0.13333837687969208... Accuracy: 0.9420833333333334\n",
            "375/375 [==============================] - 1s 2ms/step - loss: 0.1492 - accuracy: 0.9378\n",
            "Epoch: 101... Training loss: 0.12715917825698853... Accuracy: 0.9459166666666666\n",
            "375/375 [==============================] - 1s 2ms/step - loss: 0.1398 - accuracy: 0.9400\n",
            "Epoch: 102... Training loss: 0.1669939011335373... Accuracy: 0.9279166666666666\n",
            "375/375 [==============================] - 1s 2ms/step - loss: 0.1682 - accuracy: 0.9285\n",
            "Epoch: 103... Training loss: 0.1183377057313919... Accuracy: 0.9521666666666667\n",
            "375/375 [==============================] - 1s 2ms/step - loss: 0.1604 - accuracy: 0.9296\n",
            "Epoch: 104... Training loss: 0.1217799037694931... Accuracy: 0.9475\n",
            "375/375 [==============================] - 1s 2ms/step - loss: 0.1403 - accuracy: 0.9401\n",
            "Epoch: 105... Training loss: 0.16276520490646362... Accuracy: 0.925\n",
            "375/375 [==============================] - 1s 2ms/step - loss: 0.1447 - accuracy: 0.9354\n",
            "Epoch: 106... Training loss: 0.16108453273773193... Accuracy: 0.9295833333333333\n",
            "375/375 [==============================] - 1s 2ms/step - loss: 0.1614 - accuracy: 0.9353\n",
            "Epoch: 107... Training loss: 0.12508656084537506... Accuracy: 0.9455833333333333\n",
            "375/375 [==============================] - 1s 2ms/step - loss: 0.1458 - accuracy: 0.9388\n",
            "Epoch: 108... Training loss: 0.1150483712553978... Accuracy: 0.9520833333333333\n",
            "375/375 [==============================] - 1s 2ms/step - loss: 0.1369 - accuracy: 0.9409\n",
            "Epoch: 109... Training loss: 0.11704057455062866... Accuracy: 0.9495\n",
            "375/375 [==============================] - 1s 2ms/step - loss: 0.1367 - accuracy: 0.9417\n",
            "Epoch: 110... Training loss: 0.14086739718914032... Accuracy: 0.9366666666666666\n",
            "375/375 [==============================] - 1s 2ms/step - loss: 0.1563 - accuracy: 0.9340\n",
            "Epoch: 111... Training loss: 0.20253194868564606... Accuracy: 0.9134166666666667\n",
            "375/375 [==============================] - 1s 2ms/step - loss: 0.1594 - accuracy: 0.9288\n",
            "Epoch: 112... Training loss: 0.18702539801597595... Accuracy: 0.9235\n",
            "375/375 [==============================] - 1s 2ms/step - loss: 0.1519 - accuracy: 0.9340\n",
            "Epoch: 113... Training loss: 0.13154037296772003... Accuracy: 0.9428333333333333\n",
            "375/375 [==============================] - 1s 2ms/step - loss: 0.1276 - accuracy: 0.9468\n",
            "Epoch: 114... Training loss: 0.1562941074371338... Accuracy: 0.932\n",
            "375/375 [==============================] - 1s 2ms/step - loss: 0.1389 - accuracy: 0.9416\n",
            "Epoch: 115... Training loss: 0.1455315202474594... Accuracy: 0.9379166666666666\n",
            "375/375 [==============================] - 1s 2ms/step - loss: 0.1323 - accuracy: 0.9430\n",
            "Epoch: 116... Training loss: 0.14434267580509186... Accuracy: 0.9348333333333333\n",
            "375/375 [==============================] - 2s 4ms/step - loss: 0.1501 - accuracy: 0.9376\n",
            "Epoch: 117... Training loss: 0.16657598316669464... Accuracy: 0.9240833333333334\n",
            "375/375 [==============================] - 1s 2ms/step - loss: 0.1345 - accuracy: 0.9413\n",
            "Epoch: 118... Training loss: 0.11704181134700775... Accuracy: 0.95175\n",
            "375/375 [==============================] - 1s 2ms/step - loss: 0.1273 - accuracy: 0.9417\n",
            "Epoch: 119... Training loss: 0.12680092453956604... Accuracy: 0.9445\n",
            "375/375 [==============================] - 1s 2ms/step - loss: 0.1376 - accuracy: 0.9426\n",
            "Epoch: 120... Training loss: 0.1337442845106125... Accuracy: 0.93975\n",
            "375/375 [==============================] - 1s 2ms/step - loss: 0.1373 - accuracy: 0.9419\n",
            "Epoch: 121... Training loss: 0.17282389104366302... Accuracy: 0.9233333333333333\n",
            "375/375 [==============================] - 1s 2ms/step - loss: 0.1334 - accuracy: 0.9419\n",
            "Epoch: 122... Training loss: 0.13748331367969513... Accuracy: 0.9415833333333333\n",
            "375/375 [==============================] - 1s 2ms/step - loss: 0.1331 - accuracy: 0.9440\n",
            "Epoch: 123... Training loss: 0.13161645829677582... Accuracy: 0.9455\n",
            "375/375 [==============================] - 1s 2ms/step - loss: 0.1383 - accuracy: 0.9419\n",
            "Epoch: 124... Training loss: 0.1471380889415741... Accuracy: 0.9355833333333333\n",
            "375/375 [==============================] - 1s 2ms/step - loss: 0.1506 - accuracy: 0.9381\n",
            "Epoch: 125... Training loss: 0.1353466510772705... Accuracy: 0.94175\n",
            "375/375 [==============================] - 2s 2ms/step - loss: 0.1504 - accuracy: 0.9376\n",
            "Epoch: 126... Training loss: 0.13010942935943604... Accuracy: 0.9464166666666667\n",
            "375/375 [==============================] - 1s 2ms/step - loss: 0.1313 - accuracy: 0.9477\n",
            "Epoch: 127... Training loss: 0.12851765751838684... Accuracy: 0.9463333333333334\n",
            "375/375 [==============================] - 1s 2ms/step - loss: 0.1490 - accuracy: 0.9396\n",
            "Epoch: 128... Training loss: 0.1287088245153427... Accuracy: 0.9425833333333333\n",
            "375/375 [==============================] - 1s 2ms/step - loss: 0.1343 - accuracy: 0.9415\n",
            "Epoch: 129... Training loss: 0.15586479008197784... Accuracy: 0.9314166666666667\n",
            "375/375 [==============================] - 1s 2ms/step - loss: 0.1406 - accuracy: 0.9394\n",
            "Epoch: 130... Training loss: 0.11502083390951157... Accuracy: 0.95425\n",
            "375/375 [==============================] - 1s 2ms/step - loss: 0.1376 - accuracy: 0.9404\n",
            "Epoch: 131... Training loss: 0.13091742992401123... Accuracy: 0.9411666666666667\n",
            "375/375 [==============================] - 1s 2ms/step - loss: 0.1411 - accuracy: 0.9378\n",
            "Epoch: 132... Training loss: 0.1318255215883255... Accuracy: 0.94225\n",
            "375/375 [==============================] - 1s 2ms/step - loss: 0.1339 - accuracy: 0.9404\n",
            "Epoch: 133... Training loss: 0.11071262508630753... Accuracy: 0.9531666666666667\n",
            "375/375 [==============================] - 1s 2ms/step - loss: 0.1407 - accuracy: 0.9408\n",
            "Epoch: 134... Training loss: 0.15994754433631897... Accuracy: 0.9294166666666667\n",
            "375/375 [==============================] - 1s 2ms/step - loss: 0.1467 - accuracy: 0.9387\n",
            "Epoch: 135... Training loss: 0.11068151891231537... Accuracy: 0.9535833333333333\n",
            "375/375 [==============================] - 1s 2ms/step - loss: 0.1388 - accuracy: 0.9384\n",
            "Epoch: 136... Training loss: 0.1315898895263672... Accuracy: 0.9445\n",
            "375/375 [==============================] - 1s 2ms/step - loss: 0.1220 - accuracy: 0.9449\n",
            "Epoch: 137... Training loss: 0.1650468409061432... Accuracy: 0.9275\n",
            "375/375 [==============================] - 1s 2ms/step - loss: 0.1416 - accuracy: 0.9365\n",
            "Epoch: 138... Training loss: 0.12210424989461899... Accuracy: 0.9475\n",
            "375/375 [==============================] - 1s 2ms/step - loss: 0.1377 - accuracy: 0.9393\n",
            "Epoch: 139... Training loss: 0.12153225392103195... Accuracy: 0.9488333333333333\n",
            "375/375 [==============================] - 1s 2ms/step - loss: 0.1386 - accuracy: 0.9397\n",
            "Epoch: 140... Training loss: 0.21967890858650208... Accuracy: 0.911\n",
            "375/375 [==============================] - 1s 2ms/step - loss: 0.1695 - accuracy: 0.9265\n",
            "Epoch: 141... Training loss: 0.14073945581912994... Accuracy: 0.9378333333333333\n",
            "375/375 [==============================] - 1s 2ms/step - loss: 0.1312 - accuracy: 0.9444\n",
            "Epoch: 142... Training loss: 0.11731408536434174... Accuracy: 0.9489166666666666\n",
            "375/375 [==============================] - 1s 2ms/step - loss: 0.1315 - accuracy: 0.9448\n",
            "Epoch: 143... Training loss: 0.12784694135189056... Accuracy: 0.945\n",
            "375/375 [==============================] - 1s 2ms/step - loss: 0.1408 - accuracy: 0.9392\n",
            "Epoch: 144... Training loss: 0.1268192082643509... Accuracy: 0.9484166666666667\n",
            "375/375 [==============================] - 1s 2ms/step - loss: 0.1361 - accuracy: 0.9417\n",
            "Epoch: 145... Training loss: 0.13952791690826416... Accuracy: 0.9365833333333333\n",
            "375/375 [==============================] - 1s 2ms/step - loss: 0.1364 - accuracy: 0.9406\n",
            "Epoch: 146... Training loss: 0.13423222303390503... Accuracy: 0.9405\n",
            "375/375 [==============================] - 1s 2ms/step - loss: 0.1266 - accuracy: 0.9493\n",
            "Epoch: 147... Training loss: 0.23273786902427673... Accuracy: 0.9050833333333334\n",
            "375/375 [==============================] - 1s 2ms/step - loss: 0.1473 - accuracy: 0.9389\n",
            "Epoch: 148... Training loss: 0.11738945543766022... Accuracy: 0.9491666666666667\n",
            "375/375 [==============================] - 1s 2ms/step - loss: 0.1409 - accuracy: 0.9388\n",
            "Epoch: 149... Training loss: 0.10619380325078964... Accuracy: 0.9561666666666667\n",
            "375/375 [==============================] - 1s 2ms/step - loss: 0.1431 - accuracy: 0.9394\n",
            "Epoch: 150... Training loss: 0.1362709403038025... Accuracy: 0.94575\n",
            "375/375 [==============================] - 1s 2ms/step - loss: 0.1444 - accuracy: 0.9365\n",
            "Epoch: 151... Training loss: 0.12094063311815262... Accuracy: 0.9485833333333333\n",
            "375/375 [==============================] - 1s 2ms/step - loss: 0.1336 - accuracy: 0.9419\n",
            "Epoch: 152... Training loss: 0.12824489176273346... Accuracy: 0.9453333333333334\n",
            "375/375 [==============================] - 1s 2ms/step - loss: 0.1348 - accuracy: 0.9413\n",
            "Epoch: 153... Training loss: 0.14719133079051971... Accuracy: 0.9331666666666667\n",
            "375/375 [==============================] - 1s 2ms/step - loss: 0.1298 - accuracy: 0.9455\n",
            "Epoch: 154... Training loss: 0.1398448497056961... Accuracy: 0.9376666666666666\n",
            "375/375 [==============================] - 1s 2ms/step - loss: 0.1306 - accuracy: 0.9428\n",
            "Epoch: 155... Training loss: 0.18590161204338074... Accuracy: 0.9238333333333333\n",
            "375/375 [==============================] - 1s 2ms/step - loss: 0.1343 - accuracy: 0.9411\n",
            "Epoch: 156... Training loss: 0.2517450451850891... Accuracy: 0.902\n",
            "375/375 [==============================] - 1s 2ms/step - loss: 0.1563 - accuracy: 0.9330\n",
            "Epoch: 157... Training loss: 0.13553740084171295... Accuracy: 0.9395833333333333\n",
            "375/375 [==============================] - 1s 2ms/step - loss: 0.1477 - accuracy: 0.9375\n",
            "Epoch: 158... Training loss: 0.14372946321964264... Accuracy: 0.93825\n",
            "375/375 [==============================] - 1s 2ms/step - loss: 0.1277 - accuracy: 0.9443\n",
            "Epoch: 159... Training loss: 0.16107740998268127... Accuracy: 0.9288333333333333\n",
            "375/375 [==============================] - 1s 2ms/step - loss: 0.1352 - accuracy: 0.9401\n",
            "Epoch: 160... Training loss: 0.13048042356967926... Accuracy: 0.9420833333333334\n",
            "375/375 [==============================] - 1s 2ms/step - loss: 0.1288 - accuracy: 0.9447\n",
            "Epoch: 161... Training loss: 0.10897824913263321... Accuracy: 0.9535833333333333\n",
            "375/375 [==============================] - 1s 2ms/step - loss: 0.1373 - accuracy: 0.9370\n",
            "Epoch: 162... Training loss: 0.11060400307178497... Accuracy: 0.9559166666666666\n",
            "375/375 [==============================] - 1s 2ms/step - loss: 0.1421 - accuracy: 0.9389\n",
            "Epoch: 163... Training loss: 0.11912135779857635... Accuracy: 0.947\n",
            "375/375 [==============================] - 1s 2ms/step - loss: 0.1301 - accuracy: 0.9441\n",
            "Epoch: 164... Training loss: 0.19621075689792633... Accuracy: 0.9165\n",
            "375/375 [==============================] - 1s 2ms/step - loss: 0.1368 - accuracy: 0.9393\n",
            "Epoch: 165... Training loss: 0.1083652526140213... Accuracy: 0.9551666666666667\n",
            "375/375 [==============================] - 1s 2ms/step - loss: 0.1292 - accuracy: 0.9433\n",
            "Epoch: 166... Training loss: 0.12260996550321579... Accuracy: 0.94725\n",
            "375/375 [==============================] - 1s 2ms/step - loss: 0.1344 - accuracy: 0.9420\n",
            "Epoch: 167... Training loss: 0.18252238631248474... Accuracy: 0.922\n",
            "375/375 [==============================] - 1s 2ms/step - loss: 0.1298 - accuracy: 0.9440\n",
            "Epoch: 168... Training loss: 0.12331950664520264... Accuracy: 0.94575\n",
            "375/375 [==============================] - 1s 2ms/step - loss: 0.1392 - accuracy: 0.9401\n",
            "Epoch: 169... Training loss: 0.11962275952100754... Accuracy: 0.94525\n",
            "375/375 [==============================] - 1s 2ms/step - loss: 0.1432 - accuracy: 0.9363\n",
            "Epoch: 170... Training loss: 0.11473891139030457... Accuracy: 0.9509166666666666\n",
            "375/375 [==============================] - 1s 2ms/step - loss: 0.1294 - accuracy: 0.9430\n",
            "Epoch: 171... Training loss: 0.1369313895702362... Accuracy: 0.9415\n",
            "375/375 [==============================] - 1s 2ms/step - loss: 0.1289 - accuracy: 0.9458\n",
            "Epoch: 172... Training loss: 0.11227001994848251... Accuracy: 0.9509166666666666\n",
            "375/375 [==============================] - 1s 3ms/step - loss: 0.1255 - accuracy: 0.9486\n",
            "Epoch: 173... Training loss: 0.11723577231168747... Accuracy: 0.94925\n",
            "375/375 [==============================] - 1s 2ms/step - loss: 0.1373 - accuracy: 0.9382\n",
            "Epoch: 174... Training loss: 0.11156494915485382... Accuracy: 0.9523333333333334\n",
            "375/375 [==============================] - 1s 2ms/step - loss: 0.1271 - accuracy: 0.9431\n",
            "Epoch: 175... Training loss: 0.10746780037879944... Accuracy: 0.9549166666666666\n",
            "375/375 [==============================] - 1s 2ms/step - loss: 0.1236 - accuracy: 0.9479\n",
            "Epoch: 176... Training loss: 0.16553384065628052... Accuracy: 0.92375\n",
            "375/375 [==============================] - 1s 2ms/step - loss: 0.1385 - accuracy: 0.9408\n",
            "Epoch: 177... Training loss: 0.15914760529994965... Accuracy: 0.92875\n",
            "375/375 [==============================] - 1s 2ms/step - loss: 0.1460 - accuracy: 0.9366\n",
            "Epoch: 178... Training loss: 0.1310354769229889... Accuracy: 0.9445\n",
            "375/375 [==============================] - 1s 2ms/step - loss: 0.1187 - accuracy: 0.9502\n",
            "Epoch: 179... Training loss: 0.11555583029985428... Accuracy: 0.94925\n",
            "375/375 [==============================] - 1s 2ms/step - loss: 0.1320 - accuracy: 0.9391\n",
            "Epoch: 180... Training loss: 0.10295811295509338... Accuracy: 0.9573333333333334\n",
            "375/375 [==============================] - 1s 2ms/step - loss: 0.1326 - accuracy: 0.9424\n",
            "Epoch: 181... Training loss: 0.11737953871488571... Accuracy: 0.9481666666666667\n",
            "375/375 [==============================] - 1s 2ms/step - loss: 0.1186 - accuracy: 0.9497\n",
            "Epoch: 182... Training loss: 0.19007115066051483... Accuracy: 0.9165\n",
            "375/375 [==============================] - 1s 2ms/step - loss: 0.1372 - accuracy: 0.9404\n",
            "Epoch: 183... Training loss: 0.14276152849197388... Accuracy: 0.93825\n",
            "375/375 [==============================] - 1s 2ms/step - loss: 0.1346 - accuracy: 0.9444\n",
            "Epoch: 184... Training loss: 0.10345998406410217... Accuracy: 0.95875\n",
            "375/375 [==============================] - 1s 2ms/step - loss: 0.1319 - accuracy: 0.9443\n",
            "Epoch: 185... Training loss: 0.11196659505367279... Accuracy: 0.9518333333333333\n",
            "375/375 [==============================] - 1s 2ms/step - loss: 0.1344 - accuracy: 0.9388\n",
            "Epoch: 186... Training loss: 0.1532173603773117... Accuracy: 0.9324166666666667\n",
            "375/375 [==============================] - 1s 2ms/step - loss: 0.1371 - accuracy: 0.9401\n",
            "Epoch: 187... Training loss: 0.13315580785274506... Accuracy: 0.94175\n",
            "375/375 [==============================] - 1s 2ms/step - loss: 0.1274 - accuracy: 0.9461\n",
            "Epoch: 188... Training loss: 0.21884813904762268... Accuracy: 0.9096666666666666\n",
            "375/375 [==============================] - 1s 2ms/step - loss: 0.1378 - accuracy: 0.9422\n",
            "Epoch: 189... Training loss: 0.11005853116512299... Accuracy: 0.9535833333333333\n",
            "375/375 [==============================] - 1s 2ms/step - loss: 0.1217 - accuracy: 0.9474\n",
            "Epoch: 190... Training loss: 0.144888773560524... Accuracy: 0.93725\n",
            "375/375 [==============================] - 1s 2ms/step - loss: 0.1228 - accuracy: 0.9454\n",
            "Epoch: 191... Training loss: 0.1208001896739006... Accuracy: 0.9455833333333333\n",
            "375/375 [==============================] - 1s 2ms/step - loss: 0.1365 - accuracy: 0.9409\n",
            "Epoch: 192... Training loss: 0.125482439994812... Accuracy: 0.9461666666666667\n",
            "375/375 [==============================] - 1s 2ms/step - loss: 0.1235 - accuracy: 0.9478\n",
            "Epoch: 193... Training loss: 0.1606072038412094... Accuracy: 0.9314166666666667\n",
            "375/375 [==============================] - 1s 2ms/step - loss: 0.1282 - accuracy: 0.9431\n",
            "Epoch: 194... Training loss: 0.17626598477363586... Accuracy: 0.9238333333333333\n",
            "375/375 [==============================] - 1s 2ms/step - loss: 0.1264 - accuracy: 0.9427\n",
            "Epoch: 195... Training loss: 0.12441151589155197... Accuracy: 0.9434166666666667\n",
            "375/375 [==============================] - 1s 2ms/step - loss: 0.1314 - accuracy: 0.9442\n",
            "Epoch: 196... Training loss: 0.13632400333881378... Accuracy: 0.9426666666666667\n",
            "375/375 [==============================] - 1s 2ms/step - loss: 0.1290 - accuracy: 0.9437\n",
            "Epoch: 197... Training loss: 0.18325260281562805... Accuracy: 0.92075\n",
            "375/375 [==============================] - 1s 2ms/step - loss: 0.1288 - accuracy: 0.9439\n",
            "Epoch: 198... Training loss: 0.139119490981102... Accuracy: 0.9380833333333334\n",
            "375/375 [==============================] - 1s 2ms/step - loss: 0.1355 - accuracy: 0.9421\n",
            "Epoch: 199... Training loss: 0.1738370954990387... Accuracy: 0.92575\n",
            "Confusion matrix:\n",
            "[[1467   20    0]\n",
            " [  79 1019   10]\n",
            " [   0  102  303]]\n",
            "Accuracy: \n",
            "0.9296666666666666\n"
          ],
          "name": "stdout"
        }
      ]
    },
    {
      "cell_type": "markdown",
      "metadata": {
        "id": "ywAI6WfHujxe"
      },
      "source": [
        "### MNIST Classification"
      ]
    },
    {
      "cell_type": "code",
      "metadata": {
        "id": "15_FXzMGVK1j"
      },
      "source": [
        "def tf_mnist_classification():\n",
        "    # Load data from file\n",
        "    # Make sure that fashion-mnist/*.gz is in data/\n",
        "    train_X, train_Y, val_X, val_Y, test_X, test_Y = get_mnist_data(1)\n",
        "    train_X, val_X, test_X = normalize(train_X, val_X, test_X)    \n",
        "    \n",
        "    num_class = (np.unique(train_Y)).shape[0]\n",
        "\n",
        "    # Pad 1 as the third feature of train_x and test_x\n",
        "    train_X = add_one(train_X)\n",
        "    val_X = add_one(val_X)\n",
        "    test_X = add_one(test_X)\n",
        "    \n",
        "    train_Y = create_one_hot(train_Y, num_class)\n",
        "    val_Y = create_one_hot(val_Y, num_class)\n",
        "\n",
        "    # Define hyper-parameters and train-related parameters\n",
        "    hidden_layers = [128, 256, 100, 64]\n",
        "    learning_rate = 0.005\n",
        "    epochs = 20\n",
        "    activation = tf.nn.relu\n",
        "    optimizer = tf.keras.optimizers.Adam(learning_rate=learning_rate)\n",
        "\n",
        "    #Initialize model\n",
        "    dnn = DNNModel(hidden_layers=hidden_layers, num_classes=num_class,\n",
        "                   activation=activation, epochs=epochs, optimizer=optimizer)\n",
        "    #Train\n",
        "    dnn.train(train_X, train_Y)\n",
        "\n",
        "    # TEST\n",
        "    # Confusion matrix\n",
        "    metrics = confusion_matrix(test_Y, dnn.predict(test_X))\n",
        "    print('Confusion matrix:')\n",
        "    print(metrics)\n",
        "    print(\"Accuracy: \")\n",
        "    print(metrics.trace()/test_Y.shape[0])"
      ],
      "execution_count": 12,
      "outputs": []
    },
    {
      "cell_type": "code",
      "metadata": {
        "id": "Vv9L55P8VK1l",
        "colab": {
          "base_uri": "https://localhost:8080/"
        },
        "outputId": "a5351187-6ed5-47bd-8cfc-054328750f10"
      },
      "source": [
        "tf_mnist_classification()"
      ],
      "execution_count": 15,
      "outputs": [
        {
          "output_type": "stream",
          "text": [
            "Reading fashion MNIST data...\n",
            "Done reading\n",
            "1563/1563 [==============================] - 5s 3ms/step - loss: 0.6819 - accuracy: 0.7592\n",
            "Epoch: 0... Training loss: 0.4267736077308655... Accuracy: 0.84146\n",
            "1563/1563 [==============================] - 5s 3ms/step - loss: 0.4366 - accuracy: 0.8452\n",
            "Epoch: 1... Training loss: 0.41568389534950256... Accuracy: 0.85606\n",
            "1563/1563 [==============================] - 5s 3ms/step - loss: 0.4174 - accuracy: 0.8514\n",
            "Epoch: 2... Training loss: 0.37317684292793274... Accuracy: 0.86644\n",
            "1563/1563 [==============================] - 5s 3ms/step - loss: 0.4029 - accuracy: 0.8587\n",
            "Epoch: 3... Training loss: 0.37526729702949524... Accuracy: 0.8716\n",
            "1563/1563 [==============================] - 5s 3ms/step - loss: 0.3808 - accuracy: 0.8683\n",
            "Epoch: 4... Training loss: 0.41083475947380066... Accuracy: 0.85528\n",
            "1563/1563 [==============================] - 5s 3ms/step - loss: 0.3843 - accuracy: 0.8667\n",
            "Epoch: 5... Training loss: 0.3668743669986725... Accuracy: 0.8762\n",
            "1563/1563 [==============================] - 5s 3ms/step - loss: 0.3660 - accuracy: 0.8751\n",
            "Epoch: 6... Training loss: 0.3487933576107025... Accuracy: 0.87484\n",
            "1563/1563 [==============================] - 8s 5ms/step - loss: 0.3604 - accuracy: 0.8734\n",
            "Epoch: 7... Training loss: 0.34173592925071716... Accuracy: 0.88052\n",
            "1563/1563 [==============================] - 6s 3ms/step - loss: 0.3579 - accuracy: 0.8772\n",
            "Epoch: 8... Training loss: 0.31953591108322144... Accuracy: 0.88674\n",
            "1563/1563 [==============================] - 6s 4ms/step - loss: 0.3532 - accuracy: 0.8799\n",
            "Epoch: 9... Training loss: 0.33932921290397644... Accuracy: 0.88182\n",
            "1563/1563 [==============================] - 5s 3ms/step - loss: 0.3519 - accuracy: 0.8790\n",
            "Epoch: 10... Training loss: 0.34378889203071594... Accuracy: 0.88678\n",
            "1563/1563 [==============================] - 6s 3ms/step - loss: 0.3401 - accuracy: 0.8826\n",
            "Epoch: 11... Training loss: 0.3150520622730255... Accuracy: 0.88814\n",
            "1563/1563 [==============================] - 6s 3ms/step - loss: 0.3343 - accuracy: 0.8814\n",
            "Epoch: 12... Training loss: 0.5123496055603027... Accuracy: 0.82732\n",
            "1563/1563 [==============================] - 6s 3ms/step - loss: 0.3838 - accuracy: 0.8709\n",
            "Epoch: 13... Training loss: 0.3316517174243927... Accuracy: 0.88416\n",
            "1563/1563 [==============================] - 5s 3ms/step - loss: 0.3443 - accuracy: 0.8803\n",
            "Epoch: 14... Training loss: 0.3290870785713196... Accuracy: 0.89126\n",
            "1563/1563 [==============================] - 5s 3ms/step - loss: 0.3353 - accuracy: 0.8844\n",
            "Epoch: 15... Training loss: 0.33826422691345215... Accuracy: 0.88164\n",
            "1563/1563 [==============================] - 5s 3ms/step - loss: 0.3597 - accuracy: 0.8810\n",
            "Epoch: 16... Training loss: 0.3034585118293762... Accuracy: 0.89556\n",
            "1563/1563 [==============================] - 5s 3ms/step - loss: 0.3103 - accuracy: 0.8905\n",
            "Epoch: 17... Training loss: 0.3113674521446228... Accuracy: 0.8909\n",
            "1563/1563 [==============================] - 5s 3ms/step - loss: 0.3499 - accuracy: 0.8832\n",
            "Epoch: 18... Training loss: 0.35384365916252136... Accuracy: 0.87936\n",
            "1563/1563 [==============================] - 6s 3ms/step - loss: 0.3410 - accuracy: 0.8852\n",
            "Epoch: 19... Training loss: 0.28530266880989075... Accuracy: 0.8998\n",
            "Confusion matrix:\n",
            "[[793   1  13  32   1   0 143   0  17   0]\n",
            " [  7 955   1  29   3   0   4   0   1   0]\n",
            " [  9   0 743  14 110   0 117   0   7   0]\n",
            " [ 26   2  13 897  24   0  33   0   5   0]\n",
            " [  1   0  99  46 790   0  58   0   6   0]\n",
            " [  0   0   0   1   0 952   0  24   2  21]\n",
            " [110   1  66  24  74   0 703   0  22   0]\n",
            " [  0   0   0   0   0  29   0 944   0  27]\n",
            " [  1   0   5   4   2   2   8   7 971   0]\n",
            " [  0   0   0   0   0   4   0  38   1 957]]\n",
            "Accuracy: \n",
            "0.8705\n"
          ],
          "name": "stdout"
        }
      ]
    },
    {
      "cell_type": "markdown",
      "metadata": {
        "id": "e2V4EFbK6qqR"
      },
      "source": [
        "# III. Nộp bài\n",
        "Sau khi thực hiện xong các bạn cần upload file bài làm .ipynb theo hướng dẫn ở [form này](https://forms.gle/yUdsDcYV6Z5eFFr89)."
      ]
    },
    {
      "cell_type": "markdown",
      "metadata": {
        "id": "A796xi6AaXwy"
      },
      "source": [
        "## IV. Thang điểm\n",
        "\n"
      ]
    },
    {
      "cell_type": "markdown",
      "metadata": {
        "id": "ojErsXU5xX6u"
      },
      "source": [
        "| TODO  | Điểm  |   |   |   |\n",
        "|---|---|---|---|---|\n",
        "|\\[TODO 1\\] Cài đặt các hàm activation   |  1 |   |   |   |\n",
        "|\\[TODO 2\\] Hàm `forward`/`HiddenLayer` | 1  |   |   |   |\n",
        "|\\[TODO 3\\] Hàm `backward`/`HiddenLayer`  | 2  |   |   |   |\n",
        "|\\[TODO 4\\] Hàm `forward`/`NeuralNetwork`  | 0.5  |   |   |   |\n",
        "|\\[TODO 5\\] Hàm `compute_loss`/`NeuralNetwork`  | 1.5  |   |   |   |\n",
        "|\\[TODO 6\\] Hàm `compute_delta_grad_last`/`NeuralNetwork`  | 1  |   |   |   |\n",
        "|\\[TODO 7\\] Hàm `backward`/`NeuralNetwork`  | 1  |   |   |   |\n",
        "|\\[TODO 8\\] Hàm `update_weight_momentum`/`NeuralNetwork`  | 1  |   |   |   |\n",
        "|\\[TODO 9\\] Hàm `minibatch_train`  | 2  |   |   |   |\n",
        "|\\[TODO 10\\] Cài đặt kiến trúc Neural network sử dụng tensorflow  | 1  |   |   |   |\n",
        "|\\[TODO 11\\] Cài đặt hàm tính accuracy  | 1  |   |   |   |\n",
        "|\\[TODO 12\\] Cài đặt hàm train trong class `DNNModel`  | 2  |   |   |   |\n",
        "|**Tổng**| **15**  |   |   |   |"
      ]
    },
    {
      "cell_type": "markdown",
      "metadata": {
        "id": "UWgbEVveBxji"
      },
      "source": [
        "## Author: Giang Tran, Hoa Nguyen"
      ]
    },
    {
      "cell_type": "code",
      "metadata": {
        "id": "AnHV18q7eVgA"
      },
      "source": [
        ""
      ],
      "execution_count": null,
      "outputs": []
    }
  ]
}